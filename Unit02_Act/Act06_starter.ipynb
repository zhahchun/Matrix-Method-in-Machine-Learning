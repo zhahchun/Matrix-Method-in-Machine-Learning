{
 "cells": [
  {
   "cell_type": "code",
   "execution_count": 20,
   "metadata": {},
   "outputs": [],
   "source": [
    "import numpy as np\n",
    "# A = np.array([[25,0,1],[20,1,2],[40,1,6]])\n",
    "# b = np.array([[110],[110],[210]])\n",
    "\n",
    "# To see rank, use: \n",
    "# np.linalg.matrix_rank(A)\n",
    "\n",
    "# To invert a matrix, use:\n",
    "# np.linalg.inv(A)\n",
    "\n",
    "# To transpose a matrix, use:\n",
    "# M.transpose()\n",
    "\n",
    "# To concatenate matrices by column(0) or by row(1)\n",
    "# np.concatenate((M1, M2), axis = 0)\n",
    "\n",
    "# To multiply matrices in Python 3, use:\n",
    "# A@B"
   ]
  },
  {
   "cell_type": "code",
   "execution_count": 21,
   "metadata": {},
   "outputs": [
    {
     "name": "stdout",
     "output_type": "stream",
     "text": [
      "4\n"
     ]
    }
   ],
   "source": [
    "import numpy as np\n",
    "A = np.array([[25,15,10,0,1],[20,12,8,1,2],[40,30,10,1,6], [30,15,15,0,3], [35,20,15,2,4]])\n",
    "b = np.array([[104],[97],[193],[132],[174]])\n",
    "\n",
    "print(np.linalg.matrix_rank(A))\n",
    "\n",
    "# Note: you can use np.hstack() to concatinate vectors, for example np.hstack((A,b))\n",
    "\n",
    "# Note: you can select all the columns, except the first of a matrix A as:  A[:,1:]"
   ]
  },
  {
   "cell_type": "code",
   "execution_count": 22,
   "metadata": {},
   "outputs": [
    {
     "data": {
      "text/plain": [
       "array([[ 0.33333333],\n",
       "       [-0.33333333]])"
      ]
     },
     "execution_count": 22,
     "metadata": {},
     "output_type": "execute_result"
    }
   ],
   "source": [
    "# Item1 a)\n",
    "A = np.array([[1, 0],[1, -1],[0, 1]])\n",
    "d = np.array([[-1],[2],[1]])\n",
    "# w = (A_T@A)(-1)@A_T@d\n",
    "A_T = A.transpose()\n",
    "M1 = A_T @ A #2x3, 3x2\n",
    "M2 = np.linalg.inv(M1)\n",
    "M3 = M2 @ A_T # 2x2, 2x3\n",
    "w = M3 @ d #2x3, 3x1\n",
    "w"
   ]
  },
  {
   "cell_type": "code",
   "execution_count": 23,
   "metadata": {},
   "outputs": [
    {
     "data": {
      "text/plain": [
       "array([[ 0.33333333],\n",
       "       [ 0.66666667],\n",
       "       [-0.33333333]])"
      ]
     },
     "execution_count": 23,
     "metadata": {},
     "output_type": "execute_result"
    }
   ],
   "source": [
    "d_hat = A @ w\n",
    "d_hat"
   ]
  },
  {
   "cell_type": "code",
   "execution_count": 24,
   "metadata": {},
   "outputs": [
    {
     "data": {
      "text/plain": [
       "array([[ 4.25],\n",
       "       [17.5 ],\n",
       "       [ 3.75]])"
      ]
     },
     "execution_count": 24,
     "metadata": {},
     "output_type": "execute_result"
    }
   ],
   "source": [
    "# Item2 a)\n",
    "A = np.array([[25, 0, 1],[20, 1, 2],[40, 1, 6]])\n",
    "b = np.array([[110],[110],[210]]) \n",
    "A_rank = np.linalg.matrix_rank(A) # 3\n",
    "# x = A(-1) @ b\n",
    "A_inv = np.linalg.inv(A)\n",
    "x = A_inv @ b\n",
    "x"
   ]
  },
  {
   "cell_type": "code",
   "execution_count": 25,
   "metadata": {},
   "outputs": [
    {
     "name": "stdout",
     "output_type": "stream",
     "text": [
      "4\n",
      "4\n"
     ]
    }
   ],
   "source": [
    "# Item2 b)\n",
    "A = np.array([[25, 15, 10, 0, 1],[20, 12, 8, 1, 2],[40, 30, 10, 1, 6],[30, 15, 15, 0, 3],[35, 20, 15, 2, 4]])\n",
    "b = np.array([[104],[97],[193],[132],[174]]) \n",
    "A_b = np.concatenate((A, b), axis = 1)\n",
    "A_rank = np.linalg.matrix_rank(A) # 4\n",
    "print(A_rank)\n",
    "A_b_rank = np.linalg.matrix_rank(A_b) # 4\n",
    "print(A_b_rank)\n",
    "# x = A(-1) @ b\n",
    "# A_inv = np.linalg.inv(A) #--> LinAlgError: Singular matrix"
   ]
  },
  {
   "cell_type": "markdown",
   "metadata": {},
   "source": [
    "i) Does an exact solution exist? Why or why not?\n",
    "\n",
    "Yes, because the rank of A is equal to the rank of A combined with b. Here is 4. "
   ]
  },
  {
   "cell_type": "markdown",
   "metadata": {},
   "source": [
    "ii) Does a unique solution exist? Why or why not?\n",
    "\n",
    "No, a unique solution does not exist, because A does not have an inverse matrix."
   ]
  },
  {
   "cell_type": "markdown",
   "metadata": {},
   "source": [
    "iii) Suppose you ignore (remove) the total carbohydrates per serving (first column of A).  Find a unique solution to the modified least-squares problem and the resulting squared error."
   ]
  },
  {
   "cell_type": "code",
   "execution_count": 26,
   "metadata": {},
   "outputs": [
    {
     "name": "stdout",
     "output_type": "stream",
     "text": [
      "4\n",
      "4\n"
     ]
    },
    {
     "data": {
      "text/plain": [
       "array([[4.],\n",
       "       [4.],\n",
       "       [9.],\n",
       "       [4.]])"
      ]
     },
     "execution_count": 26,
     "metadata": {},
     "output_type": "execute_result"
    }
   ],
   "source": [
    "# a unique solution\n",
    "A = np.array([[15, 10, 0, 1],[12, 8, 1, 2],[30, 10, 1, 6],[15, 15, 0, 3],[20, 15, 2, 4]])\n",
    "b = np.array([[104],[97],[193],[132],[174]]) \n",
    "A_b = np.concatenate((A, b), axis = 1)\n",
    "A_rank = np.linalg.matrix_rank(A) # 4\n",
    "print(A_rank)\n",
    "A_b_rank = np.linalg.matrix_rank(A_b) # 4\n",
    "print(A_b_rank)\n",
    "# x = A(-1) @ b --> can't be used, since A is not a squred matrix.\n",
    "# x = (A_T@A)(-1)@A_T@d\n",
    "A_T = A.transpose() # 4x5\n",
    "M1 = A_T @ A #4x5, 5x4\n",
    "M2 = np.linalg.inv(M1)\n",
    "M3 = M2 @ A_T # 4x4, 4x5\n",
    "x = M3 @ b #4x5, 5x1\n",
    "x"
   ]
  },
  {
   "cell_type": "code",
   "execution_count": 27,
   "metadata": {},
   "outputs": [
    {
     "name": "stdout",
     "output_type": "stream",
     "text": [
      "[[15 10  0  1]\n",
      " [12  8  1  2]\n",
      " [30 10  1  6]\n",
      " [15 15  0  3]\n",
      " [20 15  2  4]]\n",
      "[[4.]\n",
      " [4.]\n",
      " [9.]\n",
      " [4.]]\n",
      "[[104]\n",
      " [ 97]\n",
      " [193]\n",
      " [132]\n",
      " [174]]\n",
      "[[104.]\n",
      " [ 97.]\n",
      " [193.]\n",
      " [132.]\n",
      " [174.]]\n"
     ]
    },
    {
     "data": {
      "text/plain": [
       "array([[0],\n",
       "       [0],\n",
       "       [0],\n",
       "       [0],\n",
       "       [0]])"
      ]
     },
     "execution_count": 27,
     "metadata": {},
     "output_type": "execute_result"
    }
   ],
   "source": [
    "# resulting squared error.\n",
    "b_hat = A @ x\n",
    "print(A)\n",
    "print(x)\n",
    "print(b)\n",
    "print(b_hat)\n",
    "b_hat = np.array(b_hat, dtype = np.int16)\n",
    "np.subtract(b, b_hat)"
   ]
  },
  {
   "cell_type": "code",
   "execution_count": 28,
   "metadata": {},
   "outputs": [
    {
     "name": "stdout",
     "output_type": "stream",
     "text": [
      "[[ 1.  -0.5  1. ]\n",
      " [ 0.   1.5  0. ]\n",
      " [ 0.   1.5  0. ]\n",
      " [ 1.  -0.5  1. ]]\n"
     ]
    },
    {
     "data": {
      "text/plain": [
       "2"
      ]
     },
     "execution_count": 28,
     "metadata": {},
     "output_type": "execute_result"
    }
   ],
   "source": [
    "# Item3 a)\n",
    "# A = T @ W_T\n",
    "t1 = np.array([[0.5],[0.5],[0.5],[0.5]])\n",
    "t2 = np.array([[0.5],[-0.5],[-0.5],[0.5]])\n",
    "w1 = np.array([[1],[1],[1]])\n",
    "w2 = np.array([[1],[-2],[1]])\n",
    "w1_T = w1.transpose()\n",
    "# print(w1_T)\n",
    "w2_T = w2.transpose()\n",
    "# print(w2_T)\n",
    "# T = np.array([[t1, t2]])\n",
    "T = np.concatenate((t1, t2), axis = 1)\n",
    "# print(T)\n",
    "W_T= np.concatenate((w1_T, w2_T), axis = 0)\n",
    "# print(W_T)\n",
    "# W = W_T.transpose()\n",
    "# print(W)\n",
    "A = T @ W_T\n",
    "print(A)\n",
    "A_rank = np.linalg.matrix_rank(A)\n",
    "A_rank # 2"
   ]
  },
  {
   "cell_type": "code",
   "execution_count": 29,
   "metadata": {},
   "outputs": [
    {
     "data": {
      "text/plain": [
       "2"
      ]
     },
     "execution_count": 29,
     "metadata": {},
     "output_type": "execute_result"
    }
   ],
   "source": [
    "# Item3 b)\n",
    "T_rank = np.linalg.matrix_rank(T)\n",
    "T_rank # 2"
   ]
  },
  {
   "cell_type": "code",
   "execution_count": 30,
   "metadata": {},
   "outputs": [
    {
     "data": {
      "text/plain": [
       "2"
      ]
     },
     "execution_count": 30,
     "metadata": {},
     "output_type": "execute_result"
    }
   ],
   "source": [
    "# Item3 c)\n",
    "A_T = A.transpose()\n",
    "Q = A_T @ A\n",
    "# print(Q) # 3x3\n",
    "Q_rank = np.linalg.matrix_rank(Q)\n",
    "Q_rank # 2\n",
    "# Q_inv = np.linalg.inv(Q) #--> LinAlgError: Singular matrix"
   ]
  },
  {
   "cell_type": "markdown",
   "metadata": {},
   "source": [
    "Q is not positive definite because its rank is less than its column number, making it non-invertible."
   ]
  },
  {
   "cell_type": "markdown",
   "metadata": {},
   "source": [
    "Item3 d)\n",
    "\n",
    "The solution can be calculated by inv(A_T @ A) @ A_T @ y, where (A_T @ A) is not invertible.Therefore, there is no solution."
   ]
  },
  {
   "cell_type": "code",
   "execution_count": null,
   "metadata": {},
   "outputs": [],
   "source": []
  }
 ],
 "metadata": {
  "kernelspec": {
   "display_name": "Python 3 (ipykernel)",
   "language": "python",
   "name": "python3"
  },
  "language_info": {
   "codemirror_mode": {
    "name": "ipython",
    "version": 3
   },
   "file_extension": ".py",
   "mimetype": "text/x-python",
   "name": "python",
   "nbconvert_exporter": "python",
   "pygments_lexer": "ipython3",
   "version": "3.10.13"
  }
 },
 "nbformat": 4,
 "nbformat_minor": 2
}
