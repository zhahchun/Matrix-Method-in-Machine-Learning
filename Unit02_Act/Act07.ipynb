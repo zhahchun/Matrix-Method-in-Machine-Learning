{
 "cells": [
  {
   "cell_type": "code",
   "execution_count": 2,
   "id": "4e0017a4",
   "metadata": {},
   "outputs": [],
   "source": [
    "import numpy as np\n",
    "# A = np.array([[25,0,1],[20,1,2],[40,1,6]])\n",
    "# b = np.array([[110],[110],[210]])\n",
    "\n",
    "# To see rank, use: \n",
    "# np.linalg.matrix_rank(A)\n",
    "\n",
    "# To invert a matrix, use:\n",
    "# np.linalg.inv(A)\n",
    "\n",
    "# To transpose a matrix, use:\n",
    "# M.transpose()\n",
    "\n",
    "# To concatenate matrices by column(0) or by row(1)\n",
    "# np.concatenate((M1, M2), axis = 0)\n",
    "\n",
    "# To multiply matrices in Python 3, use:\n",
    "# A@B"
   ]
  },
  {
   "cell_type": "code",
   "execution_count": 7,
   "id": "c98ba942",
   "metadata": {},
   "outputs": [
    {
     "data": {
      "text/plain": [
       "array([[1.66666667],\n",
       "       [1.33333333],\n",
       "       [0.33333333]])"
      ]
     },
     "execution_count": 7,
     "metadata": {},
     "output_type": "execute_result"
    }
   ],
   "source": [
    "# b = X @ (XT @ X)(inv) @XT @ b\n",
    "X = np.array([[1,1],[1,0],[0,1]])\n",
    "b = np.array([[1],[2],[1]])\n",
    "XT = X.transpose()\n",
    "XTX = XT @ X\n",
    "M = np.linalg.inv(XTX)\n",
    "d_hat = X @ M @ XT @ b\n",
    "d_hat"
   ]
  },
  {
   "cell_type": "code",
   "execution_count": 10,
   "id": "49d2bb0b",
   "metadata": {},
   "outputs": [
    {
     "data": {
      "text/plain": [
       "0.3333333333333333"
      ]
     },
     "execution_count": 10,
     "metadata": {},
     "output_type": "execute_result"
    }
   ],
   "source": [
    "5/3\n",
    "4/3\n",
    "1/3"
   ]
  },
  {
   "cell_type": "code",
   "execution_count": null,
   "id": "f37b45d6",
   "metadata": {},
   "outputs": [],
   "source": []
  },
  {
   "cell_type": "code",
   "execution_count": null,
   "id": "66ed4b1d",
   "metadata": {},
   "outputs": [],
   "source": []
  },
  {
   "cell_type": "code",
   "execution_count": null,
   "id": "58a01015",
   "metadata": {},
   "outputs": [],
   "source": []
  }
 ],
 "metadata": {
  "kernelspec": {
   "display_name": "Python 3 (ipykernel)",
   "language": "python",
   "name": "python3"
  },
  "language_info": {
   "codemirror_mode": {
    "name": "ipython",
    "version": 3
   },
   "file_extension": ".py",
   "mimetype": "text/x-python",
   "name": "python",
   "nbconvert_exporter": "python",
   "pygments_lexer": "ipython3",
   "version": "3.10.13"
  }
 },
 "nbformat": 4,
 "nbformat_minor": 5
}
