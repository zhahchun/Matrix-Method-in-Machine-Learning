{
 "cells": [
  {
   "cell_type": "code",
   "execution_count": 2,
   "id": "ca41d1a3",
   "metadata": {},
   "outputs": [],
   "source": [
    "import numpy as np"
   ]
  },
  {
   "cell_type": "markdown",
   "id": "e86c7aba",
   "metadata": {},
   "source": [
    "### 1. a) Are the columns of the following matrix linearly independent?\n",
    "Yes, because the rank number is equal to the column number."
   ]
  },
  {
   "cell_type": "code",
   "execution_count": 3,
   "id": "5a016f41",
   "metadata": {},
   "outputs": [
    {
     "data": {
      "text/plain": [
       "2"
      ]
     },
     "execution_count": 3,
     "metadata": {},
     "output_type": "execute_result"
    }
   ],
   "source": [
    "A = np.array([[0.92, 0.92], [-0.92, 0.92], [0.92, -0.92], [-0.92, -0.92]])\n",
    "np.linalg.matrix_rank(A)"
   ]
  },
  {
   "cell_type": "markdown",
   "id": "6157bf12",
   "metadata": {},
   "source": [
    "### 1. b) Are the columns of the following matrix linearly independent?\n",
    "Yes, because the rank number is equal to the column number."
   ]
  },
  {
   "cell_type": "code",
   "execution_count": 4,
   "id": "0a371534",
   "metadata": {},
   "outputs": [
    {
     "data": {
      "text/plain": [
       "3"
      ]
     },
     "execution_count": 4,
     "metadata": {},
     "output_type": "execute_result"
    }
   ],
   "source": [
    "A = np.array([[1, 1, 1], [-1, 1, -1], [1, -1, -1]])\n",
    "np.linalg.matrix_rank(A)"
   ]
  },
  {
   "cell_type": "markdown",
   "id": "4d88d951",
   "metadata": {},
   "source": [
    "### 1. c) Are the columns of the following matrix linearly independent?\n",
    "No, because the rank number is not equal to the column number."
   ]
  },
  {
   "cell_type": "code",
   "execution_count": 5,
   "id": "6d982dc0",
   "metadata": {},
   "outputs": [
    {
     "data": {
      "text/plain": [
       "2"
      ]
     },
     "execution_count": 5,
     "metadata": {},
     "output_type": "execute_result"
    }
   ],
   "source": [
    "A = np.array([[1, 2, 2], [3, 4, 5], [5, 6, 8]])\n",
    "np.linalg.matrix_rank(A)"
   ]
  },
  {
   "cell_type": "markdown",
   "id": "5bdce8b8",
   "metadata": {},
   "source": [
    "### 1. d) What is the rank of the following matrix?\n",
    "2."
   ]
  },
  {
   "cell_type": "code",
   "execution_count": 6,
   "id": "0d5a9004",
   "metadata": {},
   "outputs": [
    {
     "data": {
      "text/plain": [
       "2"
      ]
     },
     "execution_count": 6,
     "metadata": {},
     "output_type": "execute_result"
    }
   ],
   "source": [
    "A = np.array([[5, 2], [-5, 2], [5, -2]])\n",
    "np.linalg.matrix_rank(A)"
   ]
  },
  {
   "cell_type": "markdown",
   "id": "6aeb6395",
   "metadata": {},
   "source": [
    "### 1. e) Suppose the matrix in part d is used in to solve the system of linear equations A_T@A@w = d. Does a unique solution exist? Explain why.\n",
    "Yes, a unique solution exists, because the the matrix, A_T@A, is invertible."
   ]
  },
  {
   "cell_type": "code",
   "execution_count": 10,
   "id": "fa019a1e",
   "metadata": {},
   "outputs": [],
   "source": [
    "A = np.array([[5, 2], [-5, 2], [5, -2]])\n",
    "A_T = A.transpose()\n",
    "M = A_T @ A\n",
    "M_inv = np.linalg.inv(M)"
   ]
  },
  {
   "cell_type": "code",
   "execution_count": null,
   "id": "3bf9cb4b",
   "metadata": {},
   "outputs": [],
   "source": []
  },
  {
   "cell_type": "code",
   "execution_count": null,
   "id": "5397641b",
   "metadata": {},
   "outputs": [],
   "source": []
  }
 ],
 "metadata": {
  "kernelspec": {
   "display_name": "Python 3 (ipykernel)",
   "language": "python",
   "name": "python3"
  },
  "language_info": {
   "codemirror_mode": {
    "name": "ipython",
    "version": 3
   },
   "file_extension": ".py",
   "mimetype": "text/x-python",
   "name": "python",
   "nbconvert_exporter": "python",
   "pygments_lexer": "ipython3",
   "version": "3.10.13"
  }
 },
 "nbformat": 4,
 "nbformat_minor": 5
}
