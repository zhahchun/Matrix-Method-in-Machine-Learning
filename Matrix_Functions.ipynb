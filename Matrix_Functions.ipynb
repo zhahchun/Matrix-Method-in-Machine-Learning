{
 "cells": [
  {
   "cell_type": "code",
   "execution_count": null,
   "id": "ca6a9f99",
   "metadata": {},
   "outputs": [],
   "source": [
    "# A = np.array([[25,0,1],[20,1,2],[40,1,6]])\n",
    "# b = np.array([[110],[110],[210]])\n",
    "\n",
    "# To see rank, use: \n",
    "# np.linalg.matrix_rank(A)\n",
    "\n",
    "# To invert a matrix, use:\n",
    "# np.linalg.inv(A)\n",
    "\n",
    "# To transpose a matrix, use:\n",
    "# M.transpose()\n",
    "\n",
    "# To concatenate matrices by column(0) or by row(1)\n",
    "# np.concatenate((M1, M2), axis = 0)\n",
    "\n",
    "# To multiply matrices in Python 3, use:\n",
    "# A@B"
   ]
  }
 ],
 "metadata": {
  "kernelspec": {
   "display_name": "Python 3 (ipykernel)",
   "language": "python",
   "name": "python3"
  },
  "language_info": {
   "codemirror_mode": {
    "name": "ipython",
    "version": 3
   },
   "file_extension": ".py",
   "mimetype": "text/x-python",
   "name": "python",
   "nbconvert_exporter": "python",
   "pygments_lexer": "ipython3",
   "version": "3.10.13"
  }
 },
 "nbformat": 4,
 "nbformat_minor": 5
}
