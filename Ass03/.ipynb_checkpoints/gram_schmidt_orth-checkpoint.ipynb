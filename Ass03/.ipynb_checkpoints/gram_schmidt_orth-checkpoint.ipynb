{
 "cells": [
  {
   "cell_type": "markdown",
   "metadata": {},
   "source": [
    "# 3. Movies Rating"
   ]
  },
  {
   "cell_type": "code",
   "execution_count": 57,
   "metadata": {},
   "outputs": [],
   "source": [
    "import numpy as np\n",
    "from scipy.io import loadmat\n",
    "import matplotlib.pyplot as plt \n",
    "\n",
    "def gram_schmidt(B):\n",
    "    \"\"\"Orthogonalize a set of vectors stored as the columns of matrix B.\"\"\"\n",
    "    # Get the number of vectors.\n",
    "    m, n = B.shape\n",
    "    # Create new matrix to hold the orthonormal basis\n",
    "    U = np.zeros([m,n]) \n",
    "    for j in range(n):\n",
    "        # To orthogonalize the vector in column j with respect to the\n",
    "        # previous vectors, subtract from it its projection onto\n",
    "        # each of the previous vectors.\n",
    "        v = B[:,j].copy()\n",
    "        for k in range(j):\n",
    "            v -= np.dot(U[:, k], B[:, j]) * U[:, k]\n",
    "        if np.linalg.norm(v)>1e-10:\n",
    "            U[:, j] = v / np.linalg.norm(v)\n",
    "    return U\n",
    "\n",
    "# if __name__ == '__main__':\n",
    "#     B1 = np.array([[1.0, 1.0, 0.0], [2.0, 2.0, 0.0], [2.0, 2.0, 1.0]])\n",
    "#     A1 = gram_schmidt(B1)\n",
    "#     print(A1)\n",
    "#     A2 = gram_schmidt(np.random.rand(4,2)@np.random.rand(2,5))\n",
    "#     print(A2.transpose()@A2)"
   ]
  },
  {
   "cell_type": "markdown",
   "metadata": {},
   "source": [
    "### a) Is the ﬁrst basis vector you obtain equal to t1?\n",
    "Yes, it is the same as t1."
   ]
  },
  {
   "cell_type": "code",
   "execution_count": 58,
   "metadata": {},
   "outputs": [
    {
     "name": "stdout",
     "output_type": "stream",
     "text": [
      "[[ 4.47213595e-01 -3.65148372e-01 -6.32455532e-01 -5.16397779e-01\n",
      "   0.00000000e+00  0.00000000e+00  0.00000000e+00  1.26565425e-14]\n",
      " [ 4.47213595e-01  5.47722558e-01  3.16227766e-01 -3.87298335e-01\n",
      "   0.00000000e+00  0.00000000e+00  0.00000000e+00  5.00000000e-01]\n",
      " [ 4.47213595e-01 -3.65148372e-01  2.80866677e-16  6.45497224e-01\n",
      "   0.00000000e+00  0.00000000e+00  0.00000000e+00  5.00000000e-01]\n",
      " [ 4.47213595e-01  5.47722558e-01 -3.16227766e-01  3.87298335e-01\n",
      "   0.00000000e+00  0.00000000e+00  0.00000000e+00 -5.00000000e-01]\n",
      " [ 4.47213595e-01 -3.65148372e-01  6.32455532e-01 -1.29099445e-01\n",
      "   0.00000000e+00  0.00000000e+00  0.00000000e+00 -5.00000000e-01]]\n",
      "0.4472135954999579\n",
      "True\n"
     ]
    }
   ],
   "source": [
    "in_data = loadmat('movie.mat')\n",
    "# print([key for key in in_data])\n",
    "\n",
    "X = in_data['X']\n",
    "# print(X.shape[0])\n",
    "X_aug = np.hstack((np.ones((X.shape[0],1)), X))\n",
    "# print(X_aug.shape)\n",
    "# print(X_aug)\n",
    "\n",
    "X_gram = gram_schmidt(X_aug)\n",
    "print(X_gram)\n",
    "print(5 ** (-1/2))\n",
    "print(X_gram[0][0] == 5 ** (-1/2))"
   ]
  },
  {
   "cell_type": "markdown",
   "metadata": {},
   "source": [
    "### b) rank-1 approximation"
   ]
  },
  {
   "cell_type": "code",
   "execution_count": 59,
   "metadata": {},
   "outputs": [
    {
     "name": "stdout",
     "output_type": "stream",
     "text": [
      "[[0.4472136]\n",
      " [0.4472136]\n",
      " [0.4472136]\n",
      " [0.4472136]\n",
      " [0.4472136]]\n",
      "W:\n",
      " [[13.41640786 12.96919427  8.04984472 15.20526225 17.44133022  9.8386991\n",
      "   5.81377674]]\n",
      "t1W:\n",
      " [[6.  5.8 3.6 6.8 7.8 4.4 2.6]\n",
      " [6.  5.8 3.6 6.8 7.8 4.4 2.6]\n",
      " [6.  5.8 3.6 6.8 7.8 4.4 2.6]\n",
      " [6.  5.8 3.6 6.8 7.8 4.4 2.6]\n",
      " [6.  5.8 3.6 6.8 7.8 4.4 2.6]]\n",
      "X - t1W:\n",
      " [[-2.   1.2 -1.6  1.2 -0.8 -0.4 -0.6]\n",
      " [ 3.  -2.8  1.4 -0.8  2.2  0.6  2.4]\n",
      " [-2.   2.2 -0.6  0.2 -1.8 -0.4 -1.6]\n",
      " [ 3.  -3.8  2.4 -1.8  1.2  0.6  1.4]\n",
      " [-2.   3.2 -1.6  1.2 -0.8 -0.4 -1.6]]\n"
     ]
    }
   ],
   "source": [
    "# t1 = 5 ** (-1/2) * np.array([[1],[1],[1],[1],[1]])\n",
    "# print(t1)\n",
    "t1 =  np.array([X_gram[:, 0]]).transpose()\n",
    "print(t1)\n",
    "\n",
    "# least squares as a loss function\n",
    "# w = (X^T X)^(-1)X^T y\n",
    "W = np.linalg.inv(t1.transpose()@t1)@t1.transpose()@X\n",
    "print('W:\\n', W)\n",
    "\n",
    "t1W = t1 @ W\n",
    "print('t1W:\\n', t1W)\n",
    "\n",
    "print('X - t1W:\\n', X - t1W)\n",
    "# # e = d^T d - d^T A (A^T A)^(-1) A^T d\n",
    "# e = X.transpose()@X - X.transpose() @ t1 @ np.linalg.inv(t1.transpose() @ t1) @ t1.transpose() @ X\n",
    "# print(e) # --> ???"
   ]
  },
  {
   "cell_type": "markdown",
   "metadata": {},
   "source": [
    "### c) rank-2 approximation"
   ]
  },
  {
   "cell_type": "code",
   "execution_count": 60,
   "metadata": {},
   "outputs": [
    {
     "name": "stdout",
     "output_type": "stream",
     "text": [
      "W:\n",
      " [[13.41640786 12.96919427  8.04984472 15.20526225 17.44133022  9.8386991\n",
      "   5.81377674]\n",
      " [ 5.47722558 -6.02494813  3.46890953 -2.37346442  3.10376116  1.09544512\n",
      "   3.46890953]]\n",
      "T2W:\n",
      " [[4.         8.         2.33333333 7.66666667 6.66666667 4.\n",
      "  1.33333333]\n",
      " [9.         2.5        5.5        5.5        9.5        5.\n",
      "  4.5       ]\n",
      " [4.         8.         2.33333333 7.66666667 6.66666667 4.\n",
      "  1.33333333]\n",
      " [9.         2.5        5.5        5.5        9.5        5.\n",
      "  4.5       ]\n",
      " [4.         8.         2.33333333 7.66666667 6.66666667 4.\n",
      "  1.33333333]]\n",
      "X - T2W:\n",
      " [[-8.88178420e-16 -1.00000000e+00 -3.33333333e-01  3.33333333e-01\n",
      "   3.33333333e-01  0.00000000e+00  6.66666667e-01]\n",
      " [-1.77635684e-15  5.00000000e-01 -5.00000000e-01  5.00000000e-01\n",
      "   5.00000000e-01 -8.88178420e-16  5.00000000e-01]\n",
      " [-8.88178420e-16  0.00000000e+00  6.66666667e-01 -6.66666667e-01\n",
      "  -6.66666667e-01  0.00000000e+00 -3.33333333e-01]\n",
      " [-1.77635684e-15 -5.00000000e-01  5.00000000e-01 -5.00000000e-01\n",
      "  -5.00000000e-01 -8.88178420e-16 -5.00000000e-01]\n",
      " [-8.88178420e-16  1.00000000e+00 -3.33333333e-01  3.33333333e-01\n",
      "   3.33333333e-01  0.00000000e+00 -3.33333333e-01]]\n"
     ]
    }
   ],
   "source": [
    "T2 =  np.array(X_gram[:, :2])\n",
    "# print(T)\n",
    "\n",
    "# least squares as a loss function\n",
    "# w = (X^T X)^(-1)X^T y\n",
    "W = np.linalg.inv(T2.transpose()@T2)@T2.transpose()@X\n",
    "print('W:\\n', W)\n",
    "\n",
    "T2W = T2 @ W\n",
    "print('T2W:\\n', T2W)\n",
    "\n",
    "print('X - T2W:\\n', X - T2W)"
   ]
  },
  {
   "cell_type": "markdown",
   "metadata": {},
   "source": [
    "### d) rank-3 approximation"
   ]
  },
  {
   "cell_type": "code",
   "execution_count": 61,
   "metadata": {},
   "outputs": [
    {
     "name": "stdout",
     "output_type": "stream",
     "text": [
      "W:\n",
      " [[ 1.34164079e+01  1.29691943e+01  8.04984472e+00  1.52052622e+01\n",
      "   1.74413302e+01  9.83869910e+00  5.81377674e+00]\n",
      " [ 5.47722558e+00 -6.02494813e+00  3.46890953e+00 -2.37346442e+00\n",
      "   3.10376116e+00  1.09544512e+00  3.46890953e+00]\n",
      " [-1.33226763e-15  1.58113883e+00 -3.16227766e-01  3.16227766e-01\n",
      "   3.16227766e-01 -8.88178420e-16 -3.16227766e-01]]\n",
      "T3W:\n",
      " [[4.         7.         2.53333333 7.46666667 6.46666667 4.\n",
      "  1.53333333]\n",
      " [9.         3.         5.4        5.6        9.6        5.\n",
      "  4.4       ]\n",
      " [4.         8.         2.33333333 7.66666667 6.66666667 4.\n",
      "  1.33333333]\n",
      " [9.         2.         5.6        5.4        9.4        5.\n",
      "  4.6       ]\n",
      " [4.         9.         2.13333333 7.86666667 6.86666667 4.\n",
      "  1.13333333]]\n",
      "X - T3W:\n",
      " [[-2.66453526e-15 -8.88178420e-16 -5.33333333e-01  5.33333333e-01\n",
      "   5.33333333e-01 -1.77635684e-15  4.66666667e-01]\n",
      " [-1.77635684e-15 -8.88178420e-16 -4.00000000e-01  4.00000000e-01\n",
      "   4.00000000e-01 -8.88178420e-16  6.00000000e-01]\n",
      " [-1.77635684e-15  0.00000000e+00  6.66666667e-01 -6.66666667e-01\n",
      "  -6.66666667e-01 -8.88178420e-16 -3.33333333e-01]\n",
      " [-1.77635684e-15 -8.88178420e-16  4.00000000e-01 -4.00000000e-01\n",
      "  -4.00000000e-01 -8.88178420e-16 -6.00000000e-01]\n",
      " [-8.88178420e-16  0.00000000e+00 -1.33333333e-01  1.33333333e-01\n",
      "   1.33333333e-01  0.00000000e+00 -1.33333333e-01]]\n"
     ]
    }
   ],
   "source": [
    "T3 =  np.array(X_gram[:, :3])\n",
    "# print(T3)\n",
    "\n",
    "# least squares as a loss function\n",
    "# w = (X^T X)^(-1)X^T y\n",
    "W = np.linalg.inv(T3.transpose()@T3)@T3.transpose()@X\n",
    "print('W:\\n', W)\n",
    "\n",
    "T3W = T3 @ W\n",
    "print('T3W:\\n', T3W)\n",
    "\n",
    "print('X - T3W:\\n', X - T3W)"
   ]
  },
  {
   "cell_type": "markdown",
   "metadata": {},
   "source": [
    "### e) Suppose you interchange the order of Jake and Jennifer so that Jennifer’s ratings are in the ﬁrst column of X and Jake’s ratings are in the second column. Does the rank-2 approximation change? Why or why not? Does the rank-3 approximation change? Why or why not?\n",
    "Yes, both of them only alter the order of the first two columns, but the values within these columns remain identical. This is because we utilize the same taste matrix (T) to compute X and the version of X with the first two columns swapped."
   ]
  },
  {
   "cell_type": "code",
   "execution_count": 62,
   "metadata": {},
   "outputs": [],
   "source": [
    "X_swap = X.copy()\n",
    "X_swap[:, [1, 0]] = X_swap[:, [0, 1]]\n",
    "# print(X)\n",
    "# print(X_swap)\n",
    "\n",
    "\n",
    "# X_swap = X_aug.copy()\n",
    "# X_swap[:, [1, 0]] = X_swap[:, [0, 1]]\n",
    "# print(X_aug)\n",
    "# print(X_swap)\n",
    "\n",
    "# X_gram2 = gram_schmidt(X_swap)\n",
    "# print(X_gram)\n",
    "# print(X_gram2)"
   ]
  },
  {
   "cell_type": "code",
   "execution_count": 63,
   "metadata": {},
   "outputs": [
    {
     "name": "stdout",
     "output_type": "stream",
     "text": [
      "T2W_swap:\n",
      " [[8.         4.         2.33333333 7.66666667 6.66666667 4.\n",
      "  1.33333333]\n",
      " [2.5        9.         5.5        5.5        9.5        5.\n",
      "  4.5       ]\n",
      " [8.         4.         2.33333333 7.66666667 6.66666667 4.\n",
      "  1.33333333]\n",
      " [2.5        9.         5.5        5.5        9.5        5.\n",
      "  4.5       ]\n",
      " [8.         4.         2.33333333 7.66666667 6.66666667 4.\n",
      "  1.33333333]]\n",
      "T2W:\n",
      " [[4.         8.         2.33333333 7.66666667 6.66666667 4.\n",
      "  1.33333333]\n",
      " [9.         2.5        5.5        5.5        9.5        5.\n",
      "  4.5       ]\n",
      " [4.         8.         2.33333333 7.66666667 6.66666667 4.\n",
      "  1.33333333]\n",
      " [9.         2.5        5.5        5.5        9.5        5.\n",
      "  4.5       ]\n",
      " [4.         8.         2.33333333 7.66666667 6.66666667 4.\n",
      "  1.33333333]]\n"
     ]
    }
   ],
   "source": [
    "# least squares as a loss function\n",
    "# w = (X^T X)^(-1)X^T y\n",
    "W = np.linalg.inv(T2.transpose()@T2)@T2.transpose()@X_swap\n",
    "# print('W:\\n', W)\n",
    "\n",
    "T2W_swap = T2 @ W\n",
    "print('T2W_swap:\\n', T2W_swap)\n",
    "print('T2W:\\n', T2W)"
   ]
  },
  {
   "cell_type": "code",
   "execution_count": 64,
   "metadata": {},
   "outputs": [
    {
     "name": "stdout",
     "output_type": "stream",
     "text": [
      "T3W_swap:\n",
      " [[7.         4.         2.53333333 7.46666667 6.46666667 4.\n",
      "  1.53333333]\n",
      " [3.         9.         5.4        5.6        9.6        5.\n",
      "  4.4       ]\n",
      " [8.         4.         2.33333333 7.66666667 6.66666667 4.\n",
      "  1.33333333]\n",
      " [2.         9.         5.6        5.4        9.4        5.\n",
      "  4.6       ]\n",
      " [9.         4.         2.13333333 7.86666667 6.86666667 4.\n",
      "  1.13333333]]\n",
      "T3W:\n",
      " [[4.         7.         2.53333333 7.46666667 6.46666667 4.\n",
      "  1.53333333]\n",
      " [9.         3.         5.4        5.6        9.6        5.\n",
      "  4.4       ]\n",
      " [4.         8.         2.33333333 7.66666667 6.66666667 4.\n",
      "  1.33333333]\n",
      " [9.         2.         5.6        5.4        9.4        5.\n",
      "  4.6       ]\n",
      " [4.         9.         2.13333333 7.86666667 6.86666667 4.\n",
      "  1.13333333]]\n"
     ]
    }
   ],
   "source": [
    "# least squares as a loss function\n",
    "# w = (X^T X)^(-1)X^T y\n",
    "W = np.linalg.inv(T3.transpose()@T3)@T3.transpose()@X_swap\n",
    "# print('W:\\n', W)\n",
    "\n",
    "T3W_swap = T3 @ W\n",
    "print('T3W_swap:\\n', T3W_swap)\n",
    "print('T3W:\\n', T3W)"
   ]
  }
 ],
 "metadata": {
  "kernelspec": {
   "display_name": "Python 3 (ipykernel)",
   "language": "python",
   "name": "python3"
  },
  "language_info": {
   "codemirror_mode": {
    "name": "ipython",
    "version": 3
   },
   "file_extension": ".py",
   "mimetype": "text/x-python",
   "name": "python",
   "nbconvert_exporter": "python",
   "pygments_lexer": "ipython3",
   "version": "3.10.13"
  }
 },
 "nbformat": 4,
 "nbformat_minor": 4
}
