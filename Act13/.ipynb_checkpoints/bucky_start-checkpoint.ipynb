{
 "cells": [
  {
   "cell_type": "code",
   "execution_count": null,
   "metadata": {},
   "outputs": [],
   "source": [
    "import numpy as np\n",
    "from scipy.io import loadmat\n",
    "import matplotlib.pyplot as plt \n",
    "from mpl_toolkits.mplot3d import Axes3D\n",
    "\n",
    "# Load data for activity\n",
    "#\n",
    "in_data = loadmat('bucky.mat')\n",
    "A = in_data['A']\n",
    "\n",
    "##\n",
    "\n",
    "# Load data for activity: Another option\n",
    "# A = imageio.imread(\"Whateveryoulike.png\")\n",
    "# A = np.average(A[:,:,0:3], axis=2)/256\n",
    "\n",
    "rows, cols = np.array(A.shape)"
   ]
  },
  {
   "cell_type": "code",
   "execution_count": null,
   "metadata": {},
   "outputs": [],
   "source": [
    "# Display image\n",
    "fig = plt.figure()\n",
    "ax = fig.add_subplot(111)\n",
    "\n",
    "ax.imshow(A,cmap='gray')\n",
    "ax.set_axis_off()\n",
    "plt.show()"
   ]
  },
  {
   "cell_type": "code",
   "execution_count": null,
   "metadata": {},
   "outputs": [],
   "source": [
    "# Bucky's singular values\n",
    "\n",
    "# Complete and uncomment line below\n",
    "#U,s,VT = ...\n",
    "\n",
    "fig = plt.figure()\n",
    "ax = fig.add_subplot(111)\n",
    "ax.plot(np.log10(s))\n",
    "ax.set_xlabel('Singular value index $i$', fontsize=16)\n",
    "ax.set_ylabel('$\\log_{10}(\\sigma_i)$', fontsize=16)\n",
    "ax.set_title('Bucky Singular Values', fontsize=18)\n",
    "plt.show()"
   ]
  },
  {
   "cell_type": "code",
   "execution_count": null,
   "metadata": {},
   "outputs": [],
   "source": [
    "# Find and display low-rank approximations\n",
    "\n",
    "r_vals = np.array([10, 20, 50, 100 ])\n",
    "err_fro = np.zeros(len(r_vals))\n",
    "\n",
    "# display images of various rank approximations\n",
    "for i, r in enumerate(r_vals):\n",
    "   \n",
    "    # Complete and uncomment two lines below\n",
    "    #Ar = \n",
    "    #Er = \n",
    "    err_fro[i] = np.linalg.norm(Er,ord='fro')\n",
    "    \n",
    "    fig = plt.figure()\n",
    "    ax = fig.add_subplot(111)\n",
    "    ax.imshow(Ar,cmap='gray',interpolation='none')\n",
    "    ax.set_axis_off()\n",
    "    ax.set_title(['Bucky Rank =', str(r_vals[i])], fontsize=18)\n",
    "    plt.show()\n",
    "    \n",
    "# plot normalized error versus rank\n",
    "norm_err = err_fro/np.linalg.norm(A,ord='fro')\n",
    "\n",
    "fig = plt.figure()\n",
    "ax = fig.add_subplot(111)\n",
    "ax.stem(r_vals,norm_err)\n",
    "ax.set_xlabel('Rank', fontsize=16)\n",
    "ax.set_ylabel('Normalized error', fontsize=16)\n",
    "plt.show()"
   ]
  },
  {
   "cell_type": "code",
   "execution_count": null,
   "metadata": {},
   "outputs": [],
   "source": [
    "# bias-variance tradeoff\n",
    "num_sv = min(rows, cols)\n",
    "bias_2 = np.zeros(num_sv)\n",
    "ranks = np.arange(num_sv)\n",
    "\n",
    "for r in range(num_sv):\n",
    "    bias_2[r] = np.linalg.norm(s[r:num_sv])**2\n",
    "\n",
    "sigma2 = 10\n",
    "var = sigma2*ranks\n",
    "#print(var)\n",
    "\n",
    "fig = plt.figure()\n",
    "ax = fig.add_subplot(111)\n",
    "ax.plot(ranks,np.log10(bias_2),'r',label='Bias squared')\n",
    "ax.plot(ranks[1:],np.log10(var[1:]),'b', label = 'Variance')\n",
    "ax.plot(ranks,np.log10(bias_2+var),'g', label='Bias squared + Variance')\n",
    "min_bias_plus_variance_index = np.argmin(np.log10(bias_2+var))\n",
    "ax.plot(ranks[min_bias_plus_variance_index], np.log10(bias_2+var)[min_bias_plus_variance_index], '*', markersize=15)\n",
    "ax.set_xlabel('Rank', fontsize=16)\n",
    "ax.set_ylabel('$\\log_{10}$ of error', fontsize=16)\n",
    "ax.legend()\n",
    "plt.show()"
   ]
  }
 ],
 "metadata": {
  "kernelspec": {
   "display_name": "Python 3",
   "language": "python",
   "name": "python3"
  },
  "language_info": {
   "codemirror_mode": {
    "name": "ipython",
    "version": 3
   },
   "file_extension": ".py",
   "mimetype": "text/x-python",
   "name": "python",
   "nbconvert_exporter": "python",
   "pygments_lexer": "ipython3",
   "version": "3.7.4"
  }
 },
 "nbformat": 4,
 "nbformat_minor": 2
}
