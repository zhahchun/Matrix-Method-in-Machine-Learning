{
 "cells": [
  {
   "cell_type": "code",
   "execution_count": null,
   "metadata": {},
   "outputs": [],
   "source": [
    "import numpy as np\n",
    "# A = np.array([[25,0,1],[20,1,2],[40,1,6]])\n",
    "# b = np.array([[110],[110],[210]])\n",
    "\n",
    "# To see rank, use: \n",
    "# np.linalg.matrix_rank(A)\n",
    "\n",
    "# To invert a matrix, use:\n",
    "# np.linalg.inv(A)\n",
    "\n",
    "# To multiply matrices in Python 3, use:\n",
    "# A@B"
   ]
  },
  {
   "cell_type": "code",
   "execution_count": null,
   "metadata": {},
   "outputs": [],
   "source": [
    "import numpy as np\n",
    "A = np.array([[25,15,10,0,1],[20,12,8,1,2],[40,30,10,1,6], [30,15,15,0,3], [35,20,15,2,4]])\n",
    "b = np.array([[104],[97],[193],[132],[174]])\n",
    "\n",
    "print(np.linalg.matrix_rank(A))\n",
    "\n",
    "# Note: you can use np.hstack() to concatinate vectors, for example np.hstack((A,b))\n",
    "\n",
    "# Note: you can select all the columns, except the first of a matrix A as:  A[:,1:]"
   ]
  },
  {
   "cell_type": "code",
   "execution_count": null,
   "metadata": {},
   "outputs": [],
   "source": [
    "# Item1 a)\n",
    "A = np.array([[1, 0],[1, -1],[0, 1]])\n",
    "d = np.array([[-1],[11],[210]])"
   ]
  },
  {
   "cell_type": "code",
   "execution_count": null,
   "metadata": {},
   "outputs": [],
   "source": []
  },
  {
   "cell_type": "code",
   "execution_count": null,
   "metadata": {},
   "outputs": [],
   "source": []
  },
  {
   "cell_type": "code",
   "execution_count": null,
   "metadata": {},
   "outputs": [],
   "source": []
  },
  {
   "cell_type": "code",
   "execution_count": null,
   "metadata": {},
   "outputs": [],
   "source": []
  },
  {
   "cell_type": "code",
   "execution_count": null,
   "metadata": {},
   "outputs": [],
   "source": []
  }
 ],
 "metadata": {
  "kernelspec": {
   "display_name": "Python 3 (ipykernel)",
   "language": "python",
   "name": "python3"
  },
  "language_info": {
   "codemirror_mode": {
    "name": "ipython",
    "version": 3
   },
   "file_extension": ".py",
   "mimetype": "text/x-python",
   "name": "python",
   "nbconvert_exporter": "python",
   "pygments_lexer": "ipython3",
   "version": "3.10.13"
  }
 },
 "nbformat": 4,
 "nbformat_minor": 2
}
