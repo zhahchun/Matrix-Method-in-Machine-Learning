{
 "cells": [
  {
   "cell_type": "code",
   "execution_count": 5,
   "metadata": {},
   "outputs": [
    {
     "name": "stdout",
     "output_type": "stream",
     "text": [
      "['__header__', '__version__', '__globals__', 'M', 'ans']\n",
      "[[ 4  7  2  8  7  4  2]\n",
      " [ 9  3  5  6 10  5  5]\n",
      " [ 4  8  3  7  6  4  1]\n",
      " [ 9  2  6  5  9  5  4]\n",
      " [ 4  9  2  8  7  4  1]]\n"
     ]
    }
   ],
   "source": [
    "import numpy as np\n",
    "from scipy.io import loadmat\n",
    "import matplotlib.pyplot as plt \n",
    "# import statistics as st\n",
    "\n",
    "in_data = loadmat('movie.mat')\n",
    "#loadmat() loads a matlab workspace into a python dictionary, where the names of the variables are the keys \n",
    "#in the dictionary.  To see what variables are loaded, uncomment the line below: \n",
    "print([key for key in in_data])\n",
    "\n",
    "M = in_data['M']\n",
    "print(M)"
   ]
  },
  {
   "cell_type": "code",
   "execution_count": 3,
   "metadata": {},
   "outputs": [
    {
     "data": {
      "text/plain": [
       "5"
      ]
     },
     "execution_count": 3,
     "metadata": {},
     "output_type": "execute_result"
    }
   ],
   "source": [
    "np.linalg.matrix_rank(M)"
   ]
  },
  {
   "cell_type": "code",
   "execution_count": 19,
   "metadata": {},
   "outputs": [
    {
     "name": "stdout",
     "output_type": "stream",
     "text": [
      "[[6.0, 5.8, 3.6, 6.8, 7.8, 4.4, 2.6], [6.0, 5.8, 3.6, 6.8, 7.8, 4.4, 2.6], [6.0, 5.8, 3.6, 6.8, 7.8, 4.4, 2.6], [6.0, 5.8, 3.6, 6.8, 7.8, 4.4, 2.6], [6.0, 5.8, 3.6, 6.8, 7.8, 4.4, 2.6]]\n"
     ]
    },
    {
     "data": {
      "text/plain": [
       "[6.0, 5.8, 3.6, 6.8, 7.8, 4.4, 2.6]"
      ]
     },
     "execution_count": 19,
     "metadata": {},
     "output_type": "execute_result"
    }
   ],
   "source": [
    "# M_T = M.T\n",
    "# print(M_T)\n",
    "avg_M = [list(M.mean(0))]*5\n",
    "print(avg_M)\n",
    "avg_ls = list(M.mean(0))\n",
    "avg_ls"
   ]
  },
  {
   "cell_type": "code",
   "execution_count": 18,
   "metadata": {},
   "outputs": [
    {
     "data": {
      "text/plain": [
       "[13.416407864998739,\n",
       " 12.96919426949878,\n",
       " 8.049844718999244,\n",
       " 15.20526224699857,\n",
       " 17.44133022449836,\n",
       " 9.838699100999076,\n",
       " 5.813776741499454]"
      ]
     },
     "execution_count": 18,
     "metadata": {},
     "output_type": "execute_result"
    }
   ],
   "source": [
    "cons = (5)**(0.5)\n",
    "w1_T = [x * cons for x in avg_ls]\n",
    "w1_T"
   ]
  },
  {
   "cell_type": "code",
   "execution_count": 20,
   "metadata": {},
   "outputs": [
    {
     "data": {
      "text/plain": [
       "array([[-2. ,  1.2, -1.6,  1.2, -0.8, -0.4, -0.6],\n",
       "       [ 3. , -2.8,  1.4, -0.8,  2.2,  0.6,  2.4],\n",
       "       [-2. ,  2.2, -0.6,  0.2, -1.8, -0.4, -1.6],\n",
       "       [ 3. , -3.8,  2.4, -1.8,  1.2,  0.6,  1.4],\n",
       "       [-2. ,  3.2, -1.6,  1.2, -0.8, -0.4, -1.6]])"
      ]
     },
     "execution_count": 20,
     "metadata": {},
     "output_type": "execute_result"
    }
   ],
   "source": [
    "np.subtract(M, avg_M)"
   ]
  },
  {
   "cell_type": "markdown",
   "metadata": {},
   "source": [
    "f) Do you see any patterns in the residual? Briefly describe them qualitatively.\n",
    "\n",
    "Yes, there is a noticeable pattern in the residuals. It appears that individuals who favor sci-fi movies tend to have positive residuals for sci-fi movies (1st, 3rd, and 5th), while showing negative residuals for romance movies, and vice versa."
   ]
  },
  {
   "cell_type": "code",
   "execution_count": null,
   "metadata": {},
   "outputs": [],
   "source": []
  }
 ],
 "metadata": {
  "kernelspec": {
   "display_name": "Python 3 (ipykernel)",
   "language": "python",
   "name": "python3"
  },
  "language_info": {
   "codemirror_mode": {
    "name": "ipython",
    "version": 3
   },
   "file_extension": ".py",
   "mimetype": "text/x-python",
   "name": "python",
   "nbconvert_exporter": "python",
   "pygments_lexer": "ipython3",
   "version": "3.10.13"
  }
 },
 "nbformat": 4,
 "nbformat_minor": 2
}
