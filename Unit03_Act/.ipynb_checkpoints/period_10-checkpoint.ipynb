{
 "cells": [
  {
   "cell_type": "markdown",
   "metadata": {},
   "source": [
    "## CS/ECE/ME532 Period 10 Activity\n",
    "\n",
    "Estimated Time:\n",
    "\n",
    "P1: 25 mins\n",
    "\n",
    "P2: 25 mins"
   ]
  },
  {
   "cell_type": "markdown",
   "metadata": {},
   "source": [
    "### Preambles"
   ]
  },
  {
   "cell_type": "code",
   "execution_count": 1,
   "metadata": {},
   "outputs": [],
   "source": [
    "import numpy as np # numpy\n",
    "from scipy.io import loadmat # load & save data\n",
    "from scipy.io import savemat\n",
    "import matplotlib.pyplot as plt # plot\n",
    "np.set_printoptions(formatter={'float': lambda x: \"{0:0.2f}\".format(x)})"
   ]
  },
  {
   "cell_type": "markdown",
   "metadata": {},
   "source": [
    "### Q1. $K$-means\n",
    "Let $\\boldsymbol{A} = \\left[ \\begin{array}{cccccc} 3 & 3 & 3 & -1 & -1 & -1\\\\ 1 & 1 & 1 & -3 & -3 & -3 \\\\ 1 & 1 & 1 & -3 & -3 & -3 \\\\3 & 3 & 3 & -1 & -1 & -1 \\end{array} \\right]$.   Use the provided script to help you complete the problem."
   ]
  },
  {
   "cell_type": "code",
   "execution_count": 2,
   "metadata": {},
   "outputs": [
    {
     "name": "stdout",
     "output_type": "stream",
     "text": [
      "A = \n",
      " [[3.00 3.00 3.00 -1.00 -1.00 -1.00]\n",
      " [1.00 1.00 1.00 -3.00 -3.00 -3.00]\n",
      " [1.00 1.00 1.00 -3.00 -3.00 -3.00]\n",
      " [3.00 3.00 3.00 -1.00 -1.00 -1.00]]\n"
     ]
    }
   ],
   "source": [
    "A = np.array([[3,3,3,-1,-1,-1],[1,1,1,-3,-3,-3],[1,1,1,-3,-3,-3],[3,3,3,-1,-1,-1]], float)\n",
    "rows, cols = A.shape\n",
    "print('A = \\n', A)"
   ]
  },
  {
   "cell_type": "code",
   "execution_count": 3,
   "metadata": {},
   "outputs": [
    {
     "name": "stdout",
     "output_type": "stream",
     "text": [
      "[3.00 3.00 3.00 -1.00 -1.00 -1.00]\n",
      "[1.00 1.00 1.00 -3.00 -3.00 -3.00]\n",
      "[1.00 1.00 1.00 -3.00 -3.00 -3.00]\n",
      "[3.00 3.00 3.00 -1.00 -1.00 -1.00]\n",
      "[3.00 1.00 1.00 3.00]\n",
      "[3.00 1.00 1.00 3.00]\n",
      "[3.00 1.00 1.00 3.00]\n",
      "[-1.00 -3.00 -3.00 -1.00]\n",
      "[-1.00 -3.00 -3.00 -1.00]\n",
      "[-1.00 -3.00 -3.00 -1.00]\n"
     ]
    }
   ],
   "source": [
    "# numpy iterates over the 0th dimension first (over the rows)\n",
    "\n",
    "for each_entry in A:\n",
    "    print(each_entry) # This prints iterates the \"rows\" of A\n",
    "    \n",
    "for each_entry in A.transpose():\n",
    "    print(each_entry) # This prints iterates the \"columns\" of A"
   ]
  },
  {
   "cell_type": "markdown",
   "metadata": {},
   "source": [
    "#### a) Understand the following implementation of the k-means algorithm and fill in the blank to define the distance function."
   ]
  },
  {
   "cell_type": "code",
   "execution_count": 19,
   "metadata": {},
   "outputs": [],
   "source": [
    "def dist(x, y):\n",
    "    \"\"\"\n",
    "    this function takes in two 1-d numpy as input an outputs \n",
    "    Euclidean the distance between them\n",
    "    \"\"\"\n",
    "    sum_square = 0\n",
    "    for i in range(len(x)):\n",
    "        sum_square += (x[i] - y[i])**(2)\n",
    "        \n",
    "    return sum_square ## Fill in the blank: Recall the 'distance' function used in the kMeans algorithm\n",
    "\n",
    "# print(A[0])\n",
    "# print(A[1])\n",
    "# dist(A[0],A[1]) # 4*6=24\n",
    "\n",
    "def kMeans(X, K, maxIters = 20):\n",
    "    \"\"\"\n",
    "    this implementation of k-means takes as input (i) a matrix X\n",
    "    (with the data points as columns) (ii) an integer K representing the number \n",
    "    of clusters, and returns (i) a matrix with the K columns representing \n",
    "    the cluster centers and (ii) a list C of the assigned cluster centers\n",
    "    \"\"\"\n",
    "    X_transpose = X.transpose()\n",
    "    centroids = X_transpose[np.random.choice(X.shape[0], K)] # choose k# data points randomly\n",
    "    for i in range(maxIters):\n",
    "        # Cluster Assignment step\n",
    "        C = np.array([np.argmin([dist(x_i, y_k) for y_k in centroids]) for x_i in X_transpose]) # x_i and y_k are data points; \n",
    "        # np.argmin: Returns the indices of the minimum values along an axis.\n",
    "        # C save index with min dist\n",
    "        # Update centroids step \n",
    "        for k in range(K):\n",
    "            if (C == k).any(): # compare to diff k and get T/F\n",
    "                centroids[k] = X_transpose[C == k].mean(axis = 0) \n",
    "            else: # if there are no data points assigned to this certain centroid\n",
    "                centroids[k] = X_transpose[np.random.choice(len(X))] \n",
    "    return centroids.transpose() , C"
   ]
  },
  {
   "cell_type": "markdown",
   "metadata": {},
   "source": [
    "#### b) Use the $K$-means algorithm to represent the columns of $\\boldsymbol{A}$ with a single cluster."
   ]
  },
  {
   "cell_type": "code",
   "execution_count": 20,
   "metadata": {},
   "outputs": [
    {
     "name": "stdout",
     "output_type": "stream",
     "text": [
      "A = \n",
      " [[3.00 3.00 3.00 -1.00 -1.00 -1.00]\n",
      " [1.00 1.00 1.00 -3.00 -3.00 -3.00]\n",
      " [1.00 1.00 1.00 -3.00 -3.00 -3.00]\n",
      " [3.00 3.00 3.00 -1.00 -1.00 -1.00]]\n",
      "centroids = \n",
      " [[1.00]\n",
      " [-1.00]\n",
      " [-1.00]\n",
      " [1.00]]\n",
      "centroid assignment = \n",
      " [0 0 0 0 0 0]\n"
     ]
    }
   ],
   "source": [
    "# k-means with 1 cluster\n",
    "centroids, C = kMeans(A, 1) ## Fill in the blank: call the \"kMeans\" algorithm with proper input arguments\n",
    "print('A = \\n', A)\n",
    "print('centroids = \\n', centroids)\n",
    "print('centroid assignment = \\n', C)"
   ]
  },
  {
   "cell_type": "markdown",
   "metadata": {},
   "source": [
    "#### c) Construct a matrix $\\hat{A}_{r=1}$ whose i-th column is the centroid corresponding to the i-th column of $A$. Note that this can be viewed as a rank-1 approximation to $A$. Compare the rank-1 approximation to the original matrix and explain the nature of the approximation in terms of the properties of the K-means algorithm."
   ]
  },
  {
   "cell_type": "code",
   "execution_count": 21,
   "metadata": {},
   "outputs": [
    {
     "name": "stdout",
     "output_type": "stream",
     "text": [
      "Rank-1 Approximation, \n",
      " A_hat_1 = \n",
      " [[1.00 1.00 1.00 1.00 1.00 1.00]\n",
      " [-1.00 -1.00 -1.00 -1.00 -1.00 -1.00]\n",
      " [-1.00 -1.00 -1.00 -1.00 -1.00 -1.00]\n",
      " [1.00 1.00 1.00 1.00 1.00 1.00]]\n"
     ]
    }
   ],
   "source": [
    "# Construct rank-1 approximation using cluster\n",
    "#centroids_transposed = centroids.transpose() # transpose \"centroids\" to iterate over columns\n",
    "A_hat_1 = centroids[:, C] # Fill in the blank: pick the columns of centroids indexed by C and then transpose it again\n",
    "print('Rank-1 Approximation, \\n A_hat_1 = \\n', A_hat_1)"
   ]
  },
  {
   "cell_type": "markdown",
   "metadata": {},
   "source": [
    "#### d) Repeat b) and c) with $K=2$. Compare the rank-2 approximation to the original matrix and explain the nature of the approximation in terms of the properties of the K-means algorithm.\n",
    "\n",
    "The rank-2 approximation is better than rank-1, because when k increases, meaning we have more centroids and clusters, data points could find a closer centroid, making the total distance decreases."
   ]
  },
  {
   "cell_type": "code",
   "execution_count": 22,
   "metadata": {},
   "outputs": [
    {
     "name": "stdout",
     "output_type": "stream",
     "text": [
      "A = \n",
      " [[3.00 3.00 3.00 -1.00 -1.00 -1.00]\n",
      " [1.00 1.00 1.00 -3.00 -3.00 -3.00]\n",
      " [1.00 1.00 1.00 -3.00 -3.00 -3.00]\n",
      " [3.00 3.00 3.00 -1.00 -1.00 -1.00]]\n",
      "centroids = \n",
      " [[-1.00 3.00]\n",
      " [-3.00 1.00]\n",
      " [-3.00 1.00]\n",
      " [-1.00 3.00]]\n",
      "centroid assignment = \n",
      " [1 1 1 0 0 0]\n",
      "Rank-2 Approximation \n",
      " [[3.00 3.00 3.00 -1.00 -1.00 -1.00]\n",
      " [1.00 1.00 1.00 -3.00 -3.00 -3.00]\n",
      " [1.00 1.00 1.00 -3.00 -3.00 -3.00]\n",
      " [3.00 3.00 3.00 -1.00 -1.00 -1.00]]\n"
     ]
    }
   ],
   "source": [
    "# k-means with 2 cluster\n",
    "centroids, C = kMeans(A,2) ## Fill in the blank: call the \"kMeans\" method with proper input arguments\n",
    "print('A = \\n', A)\n",
    "print('centroids = \\n', centroids)\n",
    "print('centroid assignment = \\n', C)\n",
    "\n",
    "#centroids_transposed = centroids.transpose() # transpose \"centroids\" to iterate over columns\n",
    "A_hat_2 = centroids[:, C] # Fill in the blank: pick the columns of centroids indexed by C and then transpose it again\n",
    "print('Rank-2 Approximation \\n', A_hat_2)"
   ]
  },
  {
   "cell_type": "code",
   "execution_count": 35,
   "metadata": {},
   "outputs": [
    {
     "name": "stdout",
     "output_type": "stream",
     "text": [
      "9.797958971132712\n",
      "0.0\n",
      "[[2.00 2.00 2.00 -2.00 -2.00 -2.00]\n",
      " [2.00 2.00 2.00 -2.00 -2.00 -2.00]\n",
      " [2.00 2.00 2.00 -2.00 -2.00 -2.00]\n",
      " [2.00 2.00 2.00 -2.00 -2.00 -2.00]]\n",
      "[[0.00 0.00 0.00 0.00 0.00 0.00]\n",
      " [0.00 0.00 0.00 0.00 0.00 0.00]\n",
      " [0.00 0.00 0.00 0.00 0.00 0.00]\n",
      " [0.00 0.00 0.00 0.00 0.00 0.00]]\n"
     ]
    }
   ],
   "source": [
    "# Write code to compare A_hat_1 and A_hat_2 to the original matrix A\n",
    "# compare???\n",
    "print(np.linalg.norm(np.subtract(A, A_hat_1), \"fro\"))\n",
    "print(np.linalg.norm(np.subtract(A, A_hat_2), \"fro\"))\n",
    "\n",
    "print(np.subtract(A, A_hat_1))\n",
    "print(np.subtract(A, A_hat_2))"
   ]
  },
  {
   "cell_type": "markdown",
   "metadata": {},
   "source": [
    "### Q2. SVD"
   ]
  },
  {
   "cell_type": "markdown",
   "metadata": {},
   "source": [
    "Again let $\\boldsymbol{A} = \\left[ \\begin{array}{cccccc} 3 & 3 & 3 & -1 & -1 & -1\\\\ 1 & 1 & 1 & -3 & -3 & -3 \\\\ 1 & 1 & 1 & -3 & -3 & -3 \\\\3 & 3 & 3 & -1 & -1 & -1 \\end{array} \\right]$.  Now consider the singular value decomposition (SVD) $\\boldsymbol{A} = \\boldsymbol{U} \\boldsymbol{S} \\boldsymbol{V}^T$"
   ]
  },
  {
   "cell_type": "markdown",
   "metadata": {},
   "source": [
    "a) If the full SVD is computed, find the dimensions of $\\boldsymbol{U}, \\boldsymbol{S}$, and $\\boldsymbol{V}$."
   ]
  },
  {
   "cell_type": "markdown",
   "metadata": {},
   "source": [
    "b) Find the dimensions of $\\boldsymbol{U}, \\boldsymbol{S}$, and $\\boldsymbol{V}$ in the economy or skinny SVD of $\\boldsymbol{A}$."
   ]
  },
  {
   "cell_type": "markdown",
   "metadata": {},
   "source": [
    "c) The Python and NumPy command `U, s, VT = np.linalg.svd(A, full_matrices=True)` computes the singular value decomposition, $\\boldsymbol{A} = \\boldsymbol{U} \\boldsymbol{S} \\boldsymbol{V}^T$ where $\\boldsymbol{U}$ and $\\boldsymbol{V}$ are matrices with orthonormal columns comprising the left and right singular vectors and $\\boldsymbol{S}$ is a diagonal matrix of singular values.   \n",
    "\n",
    "i. Compute the SVD of $\\boldsymbol{A}$.  Make sure $\\boldsymbol{A} = \\boldsymbol{U} \\boldsymbol{S} \\boldsymbol{V}^T$ holds.\n",
    "\n",
    "ii. Find $\\boldsymbol{U}^T\\boldsymbol{U}$ and $\\boldsymbol{V}^T\\boldsymbol{V}$.  Are the columns of $\\boldsymbol{U}$ and $\\boldsymbol{V}$ orthonormal? Why? *Hint:* compute $\\boldsymbol{U}^T\\boldsymbol{U}$.\n",
    "\n",
    "iii. Find $\\boldsymbol{U}\\boldsymbol{U}^T$ and $\\boldsymbol{V}\\boldsymbol{V}^T$.  Are the rows of $\\boldsymbol{U}$ and $\\boldsymbol{V}$ orthonormal? Why?\n",
    "\n",
    "iv. Find the left and right singular vectors associated with the largest singular value.\n",
    "\n",
    "v. What is the rank of $\\boldsymbol{A}$?"
   ]
  },
  {
   "cell_type": "code",
   "execution_count": 45,
   "metadata": {},
   "outputs": [
    {
     "name": "stdout",
     "output_type": "stream",
     "text": [
      "U:\n",
      " [[-0.50 -0.50 -0.69 0.15]\n",
      " [-0.50 0.50 -0.15 -0.69]\n",
      " [-0.50 0.50 0.15 0.69]\n",
      " [-0.50 -0.50 0.69 -0.15]] \n",
      "s:\n",
      " [9.80 4.90 0.00 0.00] \n",
      "VT:\n",
      " [[-0.41 -0.41 -0.41 0.41 0.41 0.41]\n",
      " [-0.41 -0.41 -0.41 -0.41 -0.41 -0.41]\n",
      " [-0.81 0.50 0.31 0.00 0.00 0.00]\n",
      " [0.11 0.65 -0.76 0.00 -0.00 -0.00]\n",
      " [-0.00 0.00 -0.00 -0.58 0.79 -0.21]\n",
      " [-0.00 0.00 -0.00 -0.58 -0.21 0.79]]\n",
      "[[9.80 0.00 0.00 0.00 0.00 0.00]\n",
      " [0.00 4.90 0.00 0.00 0.00 0.00]\n",
      " [0.00 0.00 0.00 0.00 0.00 0.00]\n",
      " [0.00 0.00 0.00 0.00 0.00 0.00]]\n",
      "[[3.00 3.00 3.00 -1.00 -1.00 -1.00]\n",
      " [1.00 1.00 1.00 -3.00 -3.00 -3.00]\n",
      " [1.00 1.00 1.00 -3.00 -3.00 -3.00]\n",
      " [3.00 3.00 3.00 -1.00 -1.00 -1.00]]\n",
      "[[3.00 3.00 3.00 -1.00 -1.00 -1.00]\n",
      " [1.00 1.00 1.00 -3.00 -3.00 -3.00]\n",
      " [1.00 1.00 1.00 -3.00 -3.00 -3.00]\n",
      " [3.00 3.00 3.00 -1.00 -1.00 -1.00]]\n"
     ]
    }
   ],
   "source": [
    "# i) \n",
    "# A: 4x6\n",
    "U, s, VT = np.linalg.svd(A, full_matrices=True)\n",
    "print('U:\\n', U, '\\ns:\\n', s, '\\nVT:\\n', VT)\n",
    "S_matrix = np.zeros_like(A) ## Fill in the blank: Size of S should be equal to size of A ???\n",
    "# np.zeros_like(X): Return an array of zeros with the same shape and type as a given array.\n",
    "np.fill_diagonal(S_matrix, s) ## Fill in the diagonal entries of S_matrix with s ???\n",
    "print(S_matrix)\n",
    "print(U@S_matrix@VT)\n",
    "print(A)"
   ]
  },
  {
   "cell_type": "code",
   "execution_count": 40,
   "metadata": {},
   "outputs": [
    {
     "name": "stdout",
     "output_type": "stream",
     "text": [
      "UTU: \n",
      " [[1.00 0.00 0.00 0.00]\n",
      " [0.00 1.00 0.00 -0.00]\n",
      " [0.00 0.00 1.00 0.00]\n",
      " [0.00 -0.00 0.00 1.00]]\n",
      "VTV: \n",
      " [[1.00 -0.00 0.00 0.00 0.00 0.00]\n",
      " [-0.00 1.00 0.00 -0.00 -0.00 -0.00]\n",
      " [0.00 0.00 1.00 -0.00 0.00 0.00]\n",
      " [0.00 -0.00 -0.00 1.00 -0.00 -0.00]\n",
      " [0.00 -0.00 0.00 -0.00 1.00 -0.00]\n",
      " [0.00 -0.00 0.00 -0.00 -0.00 1.00]]\n",
      "UUT: \n",
      " [[1.00 0.00 0.00 -0.00]\n",
      " [0.00 1.00 0.00 0.00]\n",
      " [0.00 0.00 1.00 0.00]\n",
      " [-0.00 0.00 0.00 1.00]]\n",
      "VVT: \n",
      " [[1.00 -0.00 -0.00 0.00 0.00 0.00]\n",
      " [-0.00 1.00 -0.00 0.00 0.00 0.00]\n",
      " [-0.00 -0.00 1.00 -0.00 0.00 0.00]\n",
      " [0.00 0.00 -0.00 1.00 0.00 0.00]\n",
      " [0.00 0.00 0.00 0.00 1.00 -0.00]\n",
      " [0.00 0.00 0.00 0.00 -0.00 1.00]]\n",
      "First left singular vector: \n",
      " [[-0.50]\n",
      " [-0.50]\n",
      " [-0.50]\n",
      " [-0.50]]\n",
      "First left singular vector: \n",
      " [[-0.41]\n",
      " [-0.41]\n",
      " [-0.41]\n",
      " [0.41]\n",
      " [0.41]\n",
      " [0.41]]\n",
      "Largest singular value: 9.79795897113271\n",
      "2\n"
     ]
    }
   ],
   "source": [
    "# ii) Are the columns of U and V orthonormal? Why?\n",
    "# Yes, because after mutiplying with itself transpose, we get identity matrix\n",
    "print('UTU: \\n', U.T@U) # i. Printing U^T*U\n",
    "print('VTV: \\n', VT@VT.T) # i. Printing V^T*V\n",
    "\n",
    "# iii) Are the rows of U and V orthonormal? Why?\n",
    "# Yes, because after mutiplying with itself transpose, we get identity matrix\n",
    "print('UUT: \\n', U@U.T) # i. Printing U*U^T\n",
    "print('VVT: \\n', VT.T@VT) # i. Printing V*V^T\n",
    "\n",
    "V = VT.transpose()\n",
    "# iv) \n",
    "print('First left singular vector: \\n', U[:,[0]])\n",
    "print('First left singular vector: \\n', V[:,[0]])\n",
    "# print('First right singular vector: \\n', VT[[0],:])\n",
    "print('Largest singular value:', s[0])\n",
    "\n",
    "# v) What is the rank of A? 2\n",
    "# print(np.linalg.matrix_rank(A))\n",
    "print(np.sum(np.abs(s)>1e-6)) \n",
    "# check if si bigger than 0, so the left vectors really work."
   ]
  },
  {
   "cell_type": "markdown",
   "metadata": {},
   "source": [
    "d) The Python and NumPy command `U, s, VT = np.linalg.svd(A, full_matrices=False)` computes the economy or skinny singular value decomposition, $\\boldsymbol{A} = \\boldsymbol{U} \\boldsymbol{S} \\boldsymbol{V}^T$ where $\\boldsymbol{U}$ and $\\boldsymbol{V}$ are matrices with orthonormal columns comprising the left and right singular vectors and $\\boldsymbol{S}$ is a square diagonal matrix of singular values.   \n",
    "\n",
    "i. Compute the SVD of $\\boldsymbol{A}$.  Make sure $\\boldsymbol{A} = \\boldsymbol{U} \\boldsymbol{S} \\boldsymbol{V}^T$ holds.\n",
    "\n",
    "ii. Find $\\boldsymbol{U}^T\\boldsymbol{U}$ and $\\boldsymbol{V}^T\\boldsymbol{V}$.  Are the columns of $\\boldsymbol{U}$ and $\\boldsymbol{V}$ orthonormal? Why? *Hint:* compute $\\boldsymbol{U}^T\\boldsymbol{U}$.\n",
    "\n",
    "iii. Find $\\boldsymbol{U}\\boldsymbol{U}^T$ and $\\boldsymbol{V}\\boldsymbol{V}^T$.  Are the rows of $\\boldsymbol{U}$ and $\\boldsymbol{V}$ orthonormal? Why?"
   ]
  },
  {
   "cell_type": "code",
   "execution_count": 41,
   "metadata": {},
   "outputs": [
    {
     "name": "stdout",
     "output_type": "stream",
     "text": [
      "[[3.00 3.00 3.00 -1.00 -1.00 -1.00]\n",
      " [1.00 1.00 1.00 -3.00 -3.00 -3.00]\n",
      " [1.00 1.00 1.00 -3.00 -3.00 -3.00]\n",
      " [3.00 3.00 3.00 -1.00 -1.00 -1.00]]\n",
      "[[3.00 3.00 3.00 -1.00 -1.00 -1.00]\n",
      " [1.00 1.00 1.00 -3.00 -3.00 -3.00]\n",
      " [1.00 1.00 1.00 -3.00 -3.00 -3.00]\n",
      " [3.00 3.00 3.00 -1.00 -1.00 -1.00]]\n"
     ]
    }
   ],
   "source": [
    "# i) \n",
    "U, s, VT = np.linalg.svd(A, full_matrices=False)\n",
    "S_matrix = np.diag(s)\n",
    "print(U@S_matrix@VT)\n",
    "print(A)"
   ]
  },
  {
   "cell_type": "code",
   "execution_count": 44,
   "metadata": {},
   "outputs": [
    {
     "name": "stdout",
     "output_type": "stream",
     "text": [
      "U:\n",
      " [[-0.50 -0.50 -0.69 0.15]\n",
      " [-0.50 0.50 -0.15 -0.69]\n",
      " [-0.50 0.50 0.15 0.69]\n",
      " [-0.50 -0.50 0.69 -0.15]] \n",
      "s:\n",
      " [9.80 4.90 0.00 0.00] \n",
      "VT:\n",
      " [[-0.41 -0.41 -0.41 0.41 0.41 0.41]\n",
      " [-0.41 -0.41 -0.41 -0.41 -0.41 -0.41]\n",
      " [-0.81 0.50 0.31 0.00 0.00 0.00]\n",
      " [0.11 0.65 -0.76 0.00 -0.00 -0.00]]\n",
      "UTU: \n",
      " [[1.00 0.00 0.00 0.00]\n",
      " [0.00 1.00 0.00 -0.00]\n",
      " [0.00 0.00 1.00 0.00]\n",
      " [0.00 -0.00 0.00 1.00]]\n",
      "VTV: \n",
      " [[1.00 -0.00 0.00 0.00]\n",
      " [-0.00 1.00 0.00 -0.00]\n",
      " [0.00 0.00 1.00 -0.00]\n",
      " [0.00 -0.00 -0.00 1.00]]\n",
      "UUT: \n",
      " [[1.00 0.00 0.00 -0.00]\n",
      " [0.00 1.00 0.00 0.00]\n",
      " [0.00 0.00 1.00 0.00]\n",
      " [-0.00 0.00 0.00 1.00]]\n",
      "VVT: \n",
      " [[1.00 -0.00 -0.00 0.00 0.00 0.00]\n",
      " [-0.00 1.00 -0.00 0.00 0.00 0.00]\n",
      " [-0.00 -0.00 1.00 -0.00 0.00 0.00]\n",
      " [0.00 0.00 -0.00 0.33 0.33 0.33]\n",
      " [0.00 0.00 0.00 0.33 0.33 0.33]\n",
      " [0.00 0.00 0.00 0.33 0.33 0.33]]\n"
     ]
    }
   ],
   "source": [
    "print('U:\\n', U, '\\ns:\\n', s, '\\nVT:\\n', VT)\n",
    "\n",
    "# ii) Are the columns of U and V orthonormal? Why?\n",
    "# Yes, because after mutiplying with itself transpose, we get identity matrix\n",
    "print('UTU: \\n', U.T@U) # i. Printing U^T*U\n",
    "print('VTV: \\n', VT@VT.T) # i. Printing V^T*V\n",
    "\n",
    "# iii) Are the rows of U and V orthonormal? Why?\n",
    "# For U, yes. However, for v, no, because VT is wider than it is tall.\n",
    "print('UUT: \\n', U@U.T) # i. Printing U*U^T\n",
    "print('VVT: \\n', VT.T@VT) # i. Printing V*V^T"
   ]
  },
  {
   "cell_type": "markdown",
   "metadata": {},
   "source": [
    "e) Compare the singular vectors and singular values of the economy and full SVD.  How do they differ?\n",
    "\n",
    "They are the same."
   ]
  },
  {
   "cell_type": "markdown",
   "metadata": {},
   "source": [
    "f) Identify an orthonormal basis for the space spanned by the columns of $\\boldsymbol{A}$.|"
   ]
  },
  {
   "cell_type": "code",
   "execution_count": 46,
   "metadata": {},
   "outputs": [
    {
     "name": "stdout",
     "output_type": "stream",
     "text": [
      "[[-0.50 -0.50]\n",
      " [-0.50 0.50]\n",
      " [-0.50 0.50]\n",
      " [-0.50 -0.50]]\n"
     ]
    }
   ],
   "source": [
    "basis_col = U[:, :2]\n",
    "print(basis_col)"
   ]
  },
  {
   "cell_type": "markdown",
   "metadata": {},
   "source": [
    "g) Identify an orthonormal basis for the space spanned by the rows of $\\boldsymbol{A}$."
   ]
  },
  {
   "cell_type": "code",
   "execution_count": 47,
   "metadata": {},
   "outputs": [
    {
     "name": "stdout",
     "output_type": "stream",
     "text": [
      "[[-0.41 -0.41 -0.41 0.41 0.41 0.41]\n",
      " [-0.41 -0.41 -0.41 -0.41 -0.41 -0.41]]\n"
     ]
    }
   ],
   "source": [
    "basis_row = VT[:2, :]\n",
    "print(basis_row)"
   ]
  },
  {
   "cell_type": "markdown",
   "metadata": {},
   "source": [
    "h) Define the rank-$r$ approximation to $\\boldsymbol{A}$ as $\\boldsymbol{A}_r = \\sum_{i=1}^r \\sigma_i \\boldsymbol{u}_i \\boldsymbol{v}_i^T$ where $\\sigma_i$ is the ith singular value with left singular vector $\\boldsymbol{u}_i$ and right singular vector $\\boldsymbol{v}_i$.\n",
    "\n",
    "i. Find the rank-1 approximation $\\boldsymbol{A}_1$.  How does $\\boldsymbol{A}_1$ compare to $\\boldsymbol{A}$?\n",
    "\n",
    "ii. Find the rank-2 approximation $\\boldsymbol{A}_2$.  How does $\\boldsymbol{A}_2$ compare to $\\boldsymbol{A}$?"
   ]
  },
  {
   "cell_type": "code",
   "execution_count": 48,
   "metadata": {},
   "outputs": [
    {
     "data": {
      "image/png": "[encoded data removed]",
      "text/plain": [
       "<Figure size 640x480 with 1 Axes>"
      ]
     },
     "metadata": {},
     "output_type": "display_data"
    },
    {
     "data": {
      "image/png": "[encoded data removed]",
      "text/plain": [
       "<Figure size 640x480 with 1 Axes>"
      ]
     },
     "metadata": {},
     "output_type": "display_data"
    },
    {
     "data": {
      "image/png": "[encoded data removed]",
      "text/plain": [
       "<Figure size 640x480 with 1 Axes>"
      ]
     },
     "metadata": {},
     "output_type": "display_data"
    }
   ],
   "source": [
    "## display the original matrix using a heatmap \n",
    "plt.figure(num=None)\n",
    "for (j,i),label in np.ndenumerate(A):\n",
    "    plt.text(i,j,np.round(label,1),ha='center',va='center')\n",
    "plt.imshow(A, vmin=-5, vmax=5, interpolation='none', cmap='gray')\n",
    "plt.title('Original matrix' )\n",
    "\n",
    "## display the rank-r approximations using a heatmap\n",
    "for r in range(1,3):\n",
    "    ## Fill in the blank: choose the first r colummns of U, first r singular values, etc...\n",
    "    A_rank_r_approx = U[:,:r]@S_matrix[:r,:r]@VT[:r,:] \n",
    "    plt.figure(num=None)\n",
    "    for (j,i),label in np.ndenumerate(A_rank_r_approx):\n",
    "        plt.text(i,j,np.round(label,1),ha='center',va='center')\n",
    "    plt.imshow(A_rank_r_approx, vmin=-10, vmax=10, interpolation='none', cmap='gray')\n",
    "    plt.title('rank ' + str(r) + ' approximation'  ) "
   ]
  },
  {
   "cell_type": "markdown",
   "metadata": {},
   "source": [
    "i) The economy SVD is based on the dimension of the matrices and does not consider the rank of the matrix.   What is the smallest economy SVD (minimum dimension of the square matrix $\\boldsymbol{S}$) possible for the matrix $\\boldsymbol{A}$?  Find $\\boldsymbol{U}, \\boldsymbol{S}$, and $\\boldsymbol{V}$ for this minimal economy SVD."
   ]
  },
  {
   "cell_type": "markdown",
   "metadata": {},
   "source": [
    "According to , the smallest economy SVD would be that U is 4x2, s 2x2, and V 2x6."
   ]
  },
  {
   "cell_type": "code",
   "execution_count": null,
   "metadata": {},
   "outputs": [],
   "source": []
  }
 ],
 "metadata": {
  "kernelspec": {
   "display_name": "Python 3 (ipykernel)",
   "language": "python",
   "name": "python3"
  },
  "language_info": {
   "codemirror_mode": {
    "name": "ipython",
    "version": 3
   },
   "file_extension": ".py",
   "mimetype": "text/x-python",
   "name": "python",
   "nbconvert_exporter": "python",
   "pygments_lexer": "ipython3",
   "version": "3.10.13"
  }
 },
 "nbformat": 4,
 "nbformat_minor": 4
}
