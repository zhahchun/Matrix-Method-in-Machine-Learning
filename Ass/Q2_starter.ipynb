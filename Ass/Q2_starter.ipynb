{
 "cells": [
  {
   "cell_type": "code",
   "execution_count": null,
   "metadata": {},
   "outputs": [],
   "source": [
    "from scipy.io import loadmat\n",
    "import numpy as np\n",
    "import matplotlib.pyplot as plt"
   ]
  },
  {
   "cell_type": "code",
   "execution_count": 1,
   "metadata": {},
   "outputs": [
    {
     "name": "stdout",
     "output_type": "stream",
     "text": [
      "30 30 235\n",
      "30 30 235\n",
      "30 30 235\n",
      "30 30 235\n",
      "30 29 236\n",
      "29 29 237\n",
      "29 29 237\n",
      "29 30 236\n"
     ]
    }
   ],
   "source": [
    "## Breast Cancer LASSO Exploration\n",
    "## Prepare workspace\n",
    "X = loadmat(\"BreastCancer.mat\")['X']\n",
    "y = loadmat(\"BreastCancer.mat\")['y']\n",
    "\n",
    "##  10-fold CV \n",
    "\n",
    "# each row of setindices denotes the starting an ending index for one\n",
    "# partition of the data: 5 sets of 30 samples and 5 sets of 29 samples\n",
    "setindices = [[1,30],[31,60],[61,90],[91,120],[121,150],[151,179],[180,208],[209,237],[238,266],[267,295]]\n",
    "\n",
    "# each row of holdoutindices denotes the partitions that are held out from\n",
    "# the training set\n",
    "holdoutindices = [[1,2],[2,3],[3,4],[4,5],[5,6],[7,8],[9,10],[10,1]]\n",
    "\n",
    "cases = len(holdoutindices)\n",
    "\n",
    "# be sure to initiate the quantities you want to measure before looping\n",
    "# through the various training, validation, and test partitions\n",
    "#\n",
    "# \n",
    "#\n",
    "\n",
    "# Loop over various cases\n",
    "for j in range(cases):\n",
    "    # row indices of first validation set\n",
    "    v1_ind = np.arange(setindices[holdoutindices[j][0]-1][0]-1,setindices[holdoutindices[j][0]-1][1])\n",
    "    \n",
    "    # row indices of second validation set\n",
    "    v2_ind = np.arange(setindices[holdoutindices[j][1]-1][0]-1,setindices[holdoutindices[j][1]-1][1])\n",
    "    \n",
    "    # row indices of training set\n",
    "    trn_ind = list(set(range(295))-set(v1_ind)-set(v2_ind))\n",
    "    \n",
    "    # define matrix of features and labels corresponding to first\n",
    "    # validation set\n",
    "    Av1 = X[v1_ind,:]\n",
    "    bv1 = y[v1_ind]\n",
    "    \n",
    "    # define matrix of features and labels corresponding to second\n",
    "    # validation set\n",
    "    Av2 = X[v2_ind,:]\n",
    "    bv2 = y[v2_ind]\n",
    "    \n",
    "    # define matrix of features and labels corresponding to the \n",
    "    # training set\n",
    "    At = X[trn_ind,:]\n",
    "    bt = y[trn_ind]\n",
    "    \n",
    "    print(len(v1_ind), len(v2_ind), len(trn_ind))\n",
    "# Use training data to learn classifier\n",
    "#   W = ista_solve_hot(At,bt,lam_vals),\n",
    "#\n",
    "# Find best lambda value using first validation set, then evaluate\n",
    "# performance on second validation set, and accumulate performance metrics\n",
    "# over all cases partitions\n"
   ]
  },
  {
   "cell_type": "code",
   "execution_count": null,
   "metadata": {},
   "outputs": [],
   "source": []
  },
  {
   "cell_type": "code",
   "execution_count": null,
   "metadata": {},
   "outputs": [],
   "source": []
  },
  {
   "cell_type": "code",
   "execution_count": null,
   "metadata": {},
   "outputs": [],
   "source": []
  }
 ],
 "metadata": {
  "kernelspec": {
   "display_name": "Python 3 (ipykernel)",
   "language": "python",
   "name": "python3"
  },
  "language_info": {
   "codemirror_mode": {
    "name": "ipython",
    "version": 3
   },
   "file_extension": ".py",
   "mimetype": "text/x-python",
   "name": "python",
   "nbconvert_exporter": "python",
   "pygments_lexer": "ipython3",
   "version": "3.10.13"
  }
 },
 "nbformat": 4,
 "nbformat_minor": 4
}
