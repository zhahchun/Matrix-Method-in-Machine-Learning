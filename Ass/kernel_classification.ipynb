{
 "cells": [
  {
   "cell_type": "markdown",
   "metadata": {},
   "source": [
    "Kernel Classification Example"
   ]
  },
  {
   "cell_type": "code",
   "execution_count": null,
   "metadata": {},
   "outputs": [],
   "source": [
    "import numpy as np\n",
    "import matplotlib.pyplot as plt\n",
    "\n",
    "p = int(2) #features\n",
    "n = int(1000) #examples\n",
    "\n",
    "## generate training data\n",
    "X = np.random.rand(n,p)-0.5\n",
    "Y1 = np.sign(np.sum(X**2,1)-.1).reshape((-1, 1))\n",
    "\n",
    "Y2 = np.sign(5*X[:,[0]]**3-X[:,[1]])\n",
    "Y = np.hstack((Y1, Y2))"
   ]
  },
  {
   "cell_type": "code",
   "execution_count": null,
   "metadata": {},
   "outputs": [],
   "source": [
    "# Plot training data for first classification problem\n",
    "plt.scatter(X[:,0], X[:,1], color=['b' if i==-1 else 'r' for i in Y1[:,0]])\n",
    "plt.axis('equal')\n",
    "plt.title('Labeled data, first classifier')\n",
    "plt.show()"
   ]
  },
  {
   "cell_type": "code",
   "execution_count": null,
   "metadata": {},
   "outputs": [],
   "source": [
    "# Plot training data for second classification problem \n",
    "plt.scatter(X[:,0], X[:,1], color=['b' if i==-1 else 'r' for i in Y2[:,0]])\n",
    "plt.title('Labeled data, second classifier')\n",
    "plt.axis('equal')\n",
    "plt.show()"
   ]
  },
  {
   "cell_type": "code",
   "execution_count": null,
   "metadata": {},
   "outputs": [],
   "source": [
    "# Train Classifier 1\n",
    "sigma = 5\n",
    "lam = 0.01\n",
    "\n",
    "distsq=np.zeros((n,n),dtype=float)\n",
    "\n",
    "for i in range(0,n):\n",
    "    for j in range(0,n):\n",
    "        d = np.linalg.norm(X[i,:]-X[j,:])\n",
    "        distsq[i,j]=d**2\n",
    "        \n",
    "K = np.exp(-distsq/(2*sigma**2))\n",
    "\n",
    "alpha = np.linalg.inv(K+lam*np.identity(n))@Y1\n",
    "\n",
    "\n",
    "# Predict labels on a grid of points \n",
    "\n",
    "X_grid = []\n",
    "Y_hat_grid = []\n",
    "\n",
    "g = 100 #number of grid points\n",
    "Y_hat_grid = np.zeros((g,g))\n",
    "\n",
    "x1_grid = np.linspace(-.5,.5,g)\n",
    "x2_grid = np.linspace(-.5,.5,g)\n",
    "\n",
    "for i,x1 in enumerate(x1_grid):\n",
    "    for j,x2 in enumerate(x2_grid):\n",
    "        Y_hat_grid[i,j] = np.exp(-np.linalg.norm(X - np.array([x1,x2]), axis = 1)**2/(2*sigma**2))@alpha\n",
    "\n",
    "plt.contour(x1_grid, x2_grid, Y_hat_grid, np.linspace(-2,2,20))\n",
    "plt.colorbar()\n",
    "plt.title('Prediction before thresholding, sigma = '+ str(sigma))\n",
    "plt.show()\n",
    "\n",
    "plt.contour(x1_grid, x2_grid, np.sign(Y_hat_grid), np.linspace(-2,2,20))\n",
    "plt.colorbar()\n",
    "plt.title('Prediction after thresholding, sigma = '+ str(sigma))"
   ]
  },
  {
   "cell_type": "code",
   "execution_count": null,
   "metadata": {},
   "outputs": [],
   "source": [
    "# Train Classifier 2\n",
    "sigma = 5\n",
    "lam = 0.01\n",
    "\n",
    "distsq=np.zeros((n,n),dtype=float)\n",
    "\n",
    "for i in range(0,n):\n",
    "    for j in range(0,n):\n",
    "        d = np.linalg.norm(X[i,:]-X[j,:])\n",
    "        distsq[i,j]=d**2\n",
    "        \n",
    "K = np.exp(-distsq/(2*sigma**2))\n",
    "\n",
    "alpha = np.linalg.inv(K+lam*np.identity(n))@Y2\n",
    "\n",
    "\n",
    "# Predict labels on a grid of points \n",
    "X_grid = []\n",
    "Y_hat_grid = []\n",
    "\n",
    "g = 100 #number of grid points\n",
    "Y_hat_grid = np.zeros((g,g))\n",
    "\n",
    "x1_grid = np.linspace(-.5,.5,g)\n",
    "x2_grid = np.linspace(-.5,.5,g)\n",
    "\n",
    "for i,x1 in enumerate(x1_grid):\n",
    "    for j,x2 in enumerate(x2_grid):\n",
    "        Y_hat_grid[i,j] = np.exp(-np.linalg.norm(X - np.array([x1,x2]), axis = 1)**2/(2*sigma**2))@alpha\n",
    "\n",
    "plt.contour(x1_grid, x2_grid, Y_hat_grid, np.linspace(-2,2,20))\n",
    "plt.colorbar()\n",
    "plt.title('Prediction before thresholding, sigma = '+ str(sigma))\n",
    "plt.show()\n",
    "\n",
    "plt.contour(x1_grid, x2_grid, np.sign(Y_hat_grid), np.linspace(-2,2,20))\n",
    "plt.colorbar()\n",
    "plt.title('Prediction after thresholding, sigma = '+ str(sigma))"
   ]
  }
 ],
 "metadata": {
  "kernelspec": {
   "display_name": "Python 3",
   "language": "python",
   "name": "python3"
  },
  "language_info": {
   "codemirror_mode": {
    "name": "ipython",
    "version": 3
   },
   "file_extension": ".py",
   "mimetype": "text/x-python",
   "name": "python",
   "nbconvert_exporter": "python",
   "pygments_lexer": "ipython3",
   "version": "3.7.4"
  }
 },
 "nbformat": 4,
 "nbformat_minor": 2
}
