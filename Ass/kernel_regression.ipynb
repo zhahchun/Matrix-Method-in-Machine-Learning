{
 "cells": [
  {
   "cell_type": "code",
   "execution_count": null,
   "metadata": {},
   "outputs": [],
   "source": [
    "import numpy as np\n",
    "import matplotlib.pyplot as plt\n",
    "\n",
    "np.random.seed(1024)  # ensure same noise for each run\n",
    "\n",
    "# number of training points\n",
    "n = 50\n",
    "\n",
    "# sample n random points between 0 and 1\n",
    "x = np.random.rand(n,1)\n",
    "\n",
    "# set d = x^2 + .4 sin(1.5 pi x) + noise\n",
    "d = x*x + 0.4*np.sin(1.5*np.pi*x) +0.04*np.random.randn(n,1)\n",
    "\n",
    "# plot result\n",
    "plt.plot(x,d,'bo')\n",
    "plt.xlabel('x')\n",
    "plt.ylabel('d')\n",
    "plt.title('Measured Data with Noise')\n",
    "plt.show()"
   ]
  },
  {
   "cell_type": "code",
   "execution_count": null,
   "metadata": {},
   "outputs": [],
   "source": [
    "sigma = 0.04 #defines Gaussian kernel width\n",
    "p = 100 #number of points on x-axis\n",
    "\n",
    "# Display examples of the kernels\n",
    "x_test = np.linspace(0,1.00,p)  # uniformly sample interval [0,1]\n",
    "j_list = [5, 36, 46, 96]  #list of indices for example kernels \n",
    "\n",
    "Kdisplay = np.zeros((p,len(j_list)),dtype=float)\n",
    "\n",
    "for i in range(p):\n",
    "    for j in range(len(j_list)):\n",
    "        Kdisplay[i,j]= np.exp(-(x_test[i]-x_test[j_list[j]])**2/(2*sigma**2))\n",
    "\n",
    "print('Sigma = ',sigma)\n",
    "plt.plot(x_test, Kdisplay)\n",
    "plt.title('Example Kernels')\n",
    "plt.xlabel('x')\n",
    "plt.ylabel('Kernel Amplitude')\n",
    "plt.show()"
   ]
  },
  {
   "cell_type": "code",
   "execution_count": null,
   "metadata": {},
   "outputs": [],
   "source": [
    "# Kernel fitting to data\n",
    "\n",
    "lam = 0.01 #ridge regression parameter\n",
    "\n",
    "distsq=np.zeros((n,n),dtype=float)\n",
    "\n",
    "for i in range(0,n):\n",
    "    for j in range(0,n):\n",
    "        distsq[i,j]=(x[i]-x[j])**2\n",
    "        \n",
    "K = np.exp(-distsq/(2*sigma**2))\n",
    "\n",
    "alpha = np.linalg.inv(K+lam*np.identity(n))@d"
   ]
  },
  {
   "cell_type": "code",
   "execution_count": null,
   "metadata": {},
   "outputs": [],
   "source": [
    "# Generate smooth curve corresponding to data fit\n",
    "\n",
    "distsq_xtest = np.zeros((p,n),dtype=float)\n",
    "for i in range(0,p):\n",
    "    for j in range(0,n):\n",
    "        distsq_xtest[i,j] = (x_test[i]-x[j])**2\n",
    "        \n",
    "dtest = np.exp(-distsq_xtest/(2*sigma**2))@alpha\n",
    "\n",
    "dtrue = x_test*x_test + 0.4*np.sin(1.5*np.pi*x_test)  # noise free data for comparison\n",
    "\n",
    "print('Sigma = ',sigma)\n",
    "print('Lambda = ',lam)\n",
    "plt.plot(x,d,'bo',label='Measured data')\n",
    "plt.plot(x_test,dtest,'r',label='Kernel fit')\n",
    "plt.plot(x_test,dtrue,'g',label='True noise free')\n",
    "plt.title('Data and Kernel Fit')\n",
    "plt.legend(loc='lower right')\n",
    "plt.xlabel('x')\n",
    "plt.ylabel('d')\n",
    "plt.show()"
   ]
  },
  {
   "cell_type": "code",
   "execution_count": null,
   "metadata": {},
   "outputs": [],
   "source": []
  }
 ],
 "metadata": {
  "kernelspec": {
   "display_name": "Python 3",
   "language": "python",
   "name": "python3"
  },
  "language_info": {
   "codemirror_mode": {
    "name": "ipython",
    "version": 3
   },
   "file_extension": ".py",
   "mimetype": "text/x-python",
   "name": "python",
   "nbconvert_exporter": "python",
   "pygments_lexer": "ipython3",
   "version": "3.7.4"
  }
 },
 "nbformat": 4,
 "nbformat_minor": 2
}
