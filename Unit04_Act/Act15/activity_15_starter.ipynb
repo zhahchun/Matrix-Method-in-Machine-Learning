{
 "cells": [
  {
   "cell_type": "code",
   "execution_count": 1,
   "metadata": {},
   "outputs": [],
   "source": [
    "import numpy as np\n",
    "from scipy.io import loadmat"
   ]
  },
  {
   "cell_type": "markdown",
   "metadata": {},
   "source": [
    "---\n",
    "# Question 2\n",
    "---"
   ]
  },
  {
   "cell_type": "code",
   "execution_count": 2,
   "metadata": {},
   "outputs": [],
   "source": [
    "Xtrue = loadmat(\"incomplete.mat\")[\"Xtrue\"]\n",
    "Y1 = loadmat(\"incomplete.mat\")[\"Y1\"]\n",
    "Y2 = loadmat(\"incomplete.mat\")[\"Y2\"]\n",
    "Y3 = loadmat(\"incomplete.mat\")[\"Y3\"]"
   ]
  },
  {
   "cell_type": "code",
   "execution_count": 3,
   "metadata": {},
   "outputs": [],
   "source": [
    "def ItSingValThresh(Y, r):\n",
    "    \"\"\"\n",
    "    Iterative Singular Value Thresholding function for Matrix Completion\n",
    "    \"\"\"\n",
    "    tol = 10**(-3)  # difference between iterates at termination\n",
    "    max_its = 100;\n",
    "    n,p = Y.shape \n",
    "    X = np.array(Y) # make a copy so operations do not mutate the original\n",
    "    X[np.isnan(X)] = 0 # Fill in missing entries with zeros\n",
    "\n",
    "    err = 10**6 \n",
    "    itt = 0\n",
    "    \n",
    "    while err > tol and itt < max_its:\n",
    "        U,s,VT = np.linalg.svd(X, full_matrices=False)\n",
    "        V, S = VT.T, np.diag(s)\n",
    "        Xnew = U[:,:r]@S[:r,:r]@VT[:r,:] ### Complete this line\n",
    "        for i in range(n):\n",
    "            for j in range(p):\n",
    "                if ~np.isnan(Y[i,j]):  #replace Xnew with known entries\n",
    "                    Xnew[i,j] = Y[i,j]\n",
    "        err = np.linalg.norm(X-Xnew,'fro') \n",
    "        X = Xnew\n",
    "        itt += 1\n",
    "    return X"
   ]
  },
  {
   "cell_type": "markdown",
   "metadata": {},
   "source": [
    "#### <font color='blue'>a) Apply the iterative singular value thresholding function (provided in the script) to the three incomplete matrices assuming the rank is 2. You will ﬁrst need to complete the line of code in the function. Compare your recovered completed matrices to Xtrue (Note: compare the output by subtracting the completed matrix from the original matrix, and then displaying them). Does the number of missing entries aﬀect the accuracy of the completed matrix?</font>\r\n",
    "Yes, the number of missing entries affect the accuracy of the completed matrix, because when the data has more missing entries, the accuracy decreases.\n"
   ]
  },
  {
   "cell_type": "code",
   "execution_count": 16,
   "metadata": {},
   "outputs": [
    {
     "name": "stdout",
     "output_type": "stream",
     "text": [
      "# of Y1 missing values: 136 and the frobenius norm is 87.24667705099748\n"
     ]
    }
   ],
   "source": [
    "Er = Xtrue - ItSingValThresh(Y1, 2)\n",
    "er_norm = np.linalg.norm(Er,ord='fro')\n",
    "print('# of Y1 missing values:', np.count_nonzero(np.isnan(Y1)), 'and the frobenius norm is', er_norm)"
   ]
  },
  {
   "cell_type": "code",
   "execution_count": 18,
   "metadata": {},
   "outputs": [
    {
     "name": "stdout",
     "output_type": "stream",
     "text": [
      "# of Y2 missing values: 76 and the frobenius norm is 0.004735599527383998\n"
     ]
    }
   ],
   "source": [
    "Er = Xtrue - ItSingValThresh(Y2, 2)\n",
    "er_norm = np.linalg.norm(Er,ord='fro')\n",
    "print('# of Y2 missing values:', np.count_nonzero(np.isnan(Y2)), 'and the frobenius norm is', er_norm)"
   ]
  },
  {
   "cell_type": "code",
   "execution_count": 19,
   "metadata": {},
   "outputs": [
    {
     "name": "stdout",
     "output_type": "stream",
     "text": [
      "# of Y3 missing values: 16 and the frobenius norm is 0.0007153218655157115\n"
     ]
    }
   ],
   "source": [
    "Er = Xtrue - ItSingValThresh(Y3, 2)\n",
    "er_norm = np.linalg.norm(Er,ord='fro')\n",
    "print('# of Y3 missing values:', np.count_nonzero(np.isnan(Y3)), 'and the frobenius norm is', er_norm)"
   ]
  },
  {
   "cell_type": "markdown",
   "metadata": {},
   "source": [
    "#### <font color='blue'>b) Now apply your routine to the three incomplete matrices assuming the rank is 3. Compare your recovered completed matrices to Xtrue. Comment on the impact of using the incorrect rank in the completion process.</font>\r\n",
    "When we use the incorrect rank, the error increases.."
   ]
  },
  {
   "cell_type": "code",
   "execution_count": 21,
   "metadata": {},
   "outputs": [
    {
     "name": "stdout",
     "output_type": "stream",
     "text": [
      "# of Y1 missing values: 136 and the frobenius norm is 128.77804846772077\n",
      "# of Y2 missing values: 76 and the frobenius norm is 48.97940976510761\n",
      "# of Y3 missing values: 16 and the frobenius norm is 20.78506989160173\n"
     ]
    }
   ],
   "source": [
    "Er = Xtrue - ItSingValThresh(Y1, 3)\n",
    "er_norm = np.linalg.norm(Er,ord='fro')\n",
    "print('# of Y1 missing values:', np.count_nonzero(np.isnan(Y1)), 'and the frobenius norm is', er_norm)\n",
    "Er = Xtrue - ItSingValThresh(Y2, 3)\n",
    "er_norm = np.linalg.norm(Er,ord='fro')\n",
    "print('# of Y2 missing values:', np.count_nonzero(np.isnan(Y2)), 'and the frobenius norm is', er_norm)\n",
    "Er = Xtrue - ItSingValThresh(Y3, 3)\n",
    "er_norm = np.linalg.norm(Er,ord='fro')\n",
    "print('# of Y3 missing values:', np.count_nonzero(np.isnan(Y3)), 'and the frobenius norm is', er_norm)"
   ]
  },
  {
   "cell_type": "code",
   "execution_count": null,
   "metadata": {},
   "outputs": [],
   "source": []
  },
  {
   "cell_type": "code",
   "execution_count": null,
   "metadata": {},
   "outputs": [],
   "source": []
  }
 ],
 "metadata": {
  "kernelspec": {
   "display_name": "Python 3 (ipykernel)",
   "language": "python",
   "name": "python3"
  },
  "language_info": {
   "codemirror_mode": {
    "name": "ipython",
    "version": 3
   },
   "file_extension": ".py",
   "mimetype": "text/x-python",
   "name": "python",
   "nbconvert_exporter": "python",
   "pygments_lexer": "ipython3",
   "version": "3.10.13"
  }
 },
 "nbformat": 4,
 "nbformat_minor": 4
}
