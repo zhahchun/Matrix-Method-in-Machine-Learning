{
 "cells": [
  {
   "cell_type": "code",
   "execution_count": 1,
   "metadata": {},
   "outputs": [],
   "source": [
    "import numpy as np\n",
    "import matplotlib.pyplot as plt "
   ]
  },
  {
   "cell_type": "markdown",
   "metadata": {},
   "source": [
    "#### 3a) "
   ]
  },
  {
   "cell_type": "code",
   "execution_count": 2,
   "metadata": {},
   "outputs": [
    {
     "name": "stdout",
     "output_type": "stream",
     "text": [
      "Unweighted adjacency matrix\n",
      "[[0 1 0 0 0 0 0 1]\n",
      " [1 0 1 0 0 0 0 0]\n",
      " [1 1 0 1 1 0 0 0]\n",
      " [0 0 1 0 1 0 0 0]\n",
      " [0 0 0 1 0 1 0 0]\n",
      " [0 0 0 0 1 0 1 0]\n",
      " [0 0 0 0 0 1 0 1]\n",
      " [1 0 0 0 0 0 1 0]]\n",
      " \n"
     ]
    }
   ],
   "source": [
    "# Circle topology\n",
    "# Unweighted adjacency matrix\n",
    "\n",
    "# Option 1: Manually enter the entries\n",
    "Atilde = np.array(\n",
    "         [[0,1,0,0,0,0,0,1],\n",
    "          [1,0,1,0,0,0,0,0],\n",
    "          [1,1,0,1,1,0,0,0],\n",
    "          [0,0,1,0,1,0,0,0],\n",
    "          [0,0,0,1,0,1,0,0],\n",
    "          [0,0,0,0,1,0,1,0],\n",
    "          [0,0,0,0,0,1,0,1],\n",
    "          [1,0,0,0,0,0,1,0]])\n",
    "\n",
    "# Option 2: or you can exploit the patterns\n",
    "# Atilde = np.zeros((8,8))\n",
    "# for i in range(8): # \n",
    "#     Atilde[i,(i+1)%8] = 1\n",
    "#     Atilde[i,(i-1)%8] = 1\n",
    "# Atilde[2,0] = 1\n",
    "# Atilde[2,4] = 1\n",
    "\n",
    "print('Unweighted adjacency matrix')\n",
    "print(Atilde)\n",
    "print(' ')"
   ]
  },
  {
   "cell_type": "markdown",
   "metadata": {},
   "source": [
    "#### 3b)"
   ]
  },
  {
   "cell_type": "code",
   "execution_count": 9,
   "metadata": {},
   "outputs": [
    {
     "name": "stdout",
     "output_type": "stream",
     "text": [
      "Weighted adjacency matrix\n",
      "[[0.         0.5        0.         0.         0.         0.\n",
      "  0.         0.5       ]\n",
      " [0.33333333 0.         0.5        0.         0.         0.\n",
      "  0.         0.        ]\n",
      " [0.33333333 0.5        0.         0.5        0.33333333 0.\n",
      "  0.         0.        ]\n",
      " [0.         0.         0.5        0.         0.33333333 0.\n",
      "  0.         0.        ]\n",
      " [0.         0.         0.         0.5        0.         0.5\n",
      "  0.         0.        ]\n",
      " [0.         0.         0.         0.         0.33333333 0.\n",
      "  0.5        0.        ]\n",
      " [0.         0.         0.         0.         0.         0.5\n",
      "  0.         0.5       ]\n",
      " [0.33333333 0.         0.         0.         0.         0.\n",
      "  0.5        0.        ]]\n"
     ]
    }
   ],
   "source": [
    "# Find weighted adjacency matrix\n",
    "# option 1: normalize columns with a for loop\n",
    "A = np.zeros((8,8), dtype=float)\n",
    "for k in range(8):\n",
    "    norm = np.sum(Atilde[:,k])/8\n",
    "    for i in range(8):\n",
    "        if Atilde[i,k] == 1:\n",
    "            A[i,k] = norm\n",
    "    \n",
    "# option 2: normalize using numpy.sum() and broadcasting, in a single line\n",
    "# np.sum(Atilde, axis = 0)\n",
    "A = Atilde/np.sum(Atilde, axis = 0)\n",
    "\n",
    "print('Weighted adjacency matrix')\n",
    "print(A)"
   ]
  },
  {
   "cell_type": "markdown",
   "metadata": {},
   "source": [
    "#### 3c) and 3d)"
   ]
  },
  {
   "cell_type": "code",
   "execution_count": 10,
   "metadata": {},
   "outputs": [
    {
     "name": "stdout",
     "output_type": "stream",
     "text": [
      "b0 =  [[0.125]\n",
      " [0.125]\n",
      " [0.125]\n",
      " [0.125]\n",
      " [0.125]\n",
      " [0.125]\n",
      " [0.125]\n",
      " [0.125]]\n",
      " \n",
      "b1 =  [[0.125     ]\n",
      " [0.10416667]\n",
      " [0.20833333]\n",
      " [0.10416667]\n",
      " [0.125     ]\n",
      " [0.10416667]\n",
      " [0.125     ]\n",
      " [0.10416667]]\n",
      " \n",
      "1000 iterations\n",
      "b =  [[0.11538462]\n",
      " [0.15384615]\n",
      " [0.23076923]\n",
      " [0.15384615]\n",
      " [0.11538462]\n",
      " [0.07692308]\n",
      " [0.07692308]\n",
      " [0.07692308]]\n"
     ]
    }
   ],
   "source": [
    "# Power method\n",
    "\n",
    "b0 = 0.125*np.ones((8,1))\n",
    "print('b0 = ', b0)\n",
    "print(' ')\n",
    "\n",
    "b1 = A@b0\n",
    "print('b1 = ', b1)\n",
    "print(' ')\n",
    "\n",
    "b = b0.copy()\n",
    "for k in range(1000):\n",
    "    b = A@b\n",
    "    \n",
    "print('1000 iterations')\n",
    "print('b = ',b)\n"
   ]
  },
  {
   "cell_type": "markdown",
   "metadata": {},
   "source": [
    "#### 3e) Do any nodes seem to be more important than other nodes? Explain.\n",
    "\n",
    "Yes, the 3rd node is more important than other nodes, because it gets higher probability."
   ]
  },
  {
   "cell_type": "markdown",
   "metadata": {},
   "source": [
    "#### 4a)"
   ]
  },
  {
   "cell_type": "code",
   "execution_count": 17,
   "metadata": {},
   "outputs": [
    {
     "name": "stdout",
     "output_type": "stream",
     "text": [
      "Unweighted adjacency matrix\n",
      "[[0 0 0 0 0 0 0 0 1]\n",
      " [1 0 0 0 0 0 0 0 1]\n",
      " [0 0 0 0 0 0 0 0 1]\n",
      " [0 0 0 0 0 0 0 0 1]\n",
      " [0 0 0 0 0 0 0 0 1]\n",
      " [0 0 0 0 0 0 0 0 1]\n",
      " [0 0 0 0 0 0 0 0 1]\n",
      " [0 0 0 0 0 0 0 0 1]\n",
      " [1 1 1 1 1 1 1 1 0]]\n",
      " \n"
     ]
    }
   ],
   "source": [
    "# Hub topology\n",
    "\n",
    "Atildehub = np.array(\n",
    "         [[0,0,0,0,0,0,0,0,1],\n",
    "          [1,0,0,0,0,0,0,0,1],\n",
    "          [0,0,0,0,0,0,0,0,1],\n",
    "          [0,0,0,0,0,0,0,0,1],\n",
    "          [0,0,0,0,0,0,0,0,1],\n",
    "          [0,0,0,0,0,0,0,0,1],\n",
    "          [0,0,0,0,0,0,0,0,1],\n",
    "          [0,0,0,0,0,0,0,0,1],\n",
    "          [1,1,1,1,1,1,1,1,0]])\n",
    "# print(Atildehub.shape)\n",
    "\n",
    "print('Unweighted adjacency matrix')\n",
    "print(Atildehub)\n",
    "print(' ')"
   ]
  },
  {
   "cell_type": "markdown",
   "metadata": {},
   "source": [
    "#### 4b)"
   ]
  },
  {
   "cell_type": "code",
   "execution_count": 18,
   "metadata": {},
   "outputs": [
    {
     "name": "stdout",
     "output_type": "stream",
     "text": [
      "Weighted adjacency matrix\n",
      "[[0.    0.    0.    0.    0.    0.    0.    0.    0.125]\n",
      " [0.5   0.    0.    0.    0.    0.    0.    0.    0.125]\n",
      " [0.    0.    0.    0.    0.    0.    0.    0.    0.125]\n",
      " [0.    0.    0.    0.    0.    0.    0.    0.    0.125]\n",
      " [0.    0.    0.    0.    0.    0.    0.    0.    0.125]\n",
      " [0.    0.    0.    0.    0.    0.    0.    0.    0.125]\n",
      " [0.    0.    0.    0.    0.    0.    0.    0.    0.125]\n",
      " [0.    0.    0.    0.    0.    0.    0.    0.    0.125]\n",
      " [0.5   1.    1.    1.    1.    1.    1.    1.    0.   ]]\n"
     ]
    }
   ],
   "source": [
    "\n",
    "# find weighted adjacency matrix\n",
    "\n",
    "Ahub = Atildehub/np.sum(Atildehub, axis = 0)\n",
    "\n",
    "print('Weighted adjacency matrix')\n",
    "print(Ahub)"
   ]
  },
  {
   "cell_type": "markdown",
   "metadata": {},
   "source": [
    "#### 4c) and 4d)"
   ]
  },
  {
   "cell_type": "code",
   "execution_count": 25,
   "metadata": {},
   "outputs": [
    {
     "name": "stdout",
     "output_type": "stream",
     "text": [
      "b0 =  [[0.11111111]\n",
      " [0.11111111]\n",
      " [0.11111111]\n",
      " [0.11111111]\n",
      " [0.11111111]\n",
      " [0.11111111]\n",
      " [0.11111111]\n",
      " [0.11111111]\n",
      " [0.11111111]]\n",
      " \n",
      "bhub1 =  [[0.01388889]\n",
      " [0.06944444]\n",
      " [0.01388889]\n",
      " [0.01388889]\n",
      " [0.01388889]\n",
      " [0.01388889]\n",
      " [0.01388889]\n",
      " [0.01388889]\n",
      " [0.83333333]]\n",
      " \n",
      "1000 iterations\n",
      "bhub =  [[0.06060606]\n",
      " [0.09090909]\n",
      " [0.06060606]\n",
      " [0.06060606]\n",
      " [0.06060606]\n",
      " [0.06060606]\n",
      " [0.06060606]\n",
      " [0.06060606]\n",
      " [0.48484848]]\n",
      " \n",
      "100 iterations\n",
      "bhubr =  [[0.06065482]\n",
      " [0.09093172]\n",
      " [0.06065482]\n",
      " [0.06065482]\n",
      " [0.06065482]\n",
      " [0.06065482]\n",
      " [0.06065482]\n",
      " [0.06065482]\n",
      " [0.48448454]]\n",
      "90 iterations\n",
      "bhubr =  [[0.0607036 ]\n",
      " [0.09095436]\n",
      " [0.0607036 ]\n",
      " [0.0607036 ]\n",
      " [0.0607036 ]\n",
      " [0.0607036 ]\n",
      " [0.0607036 ]\n",
      " [0.0607036 ]\n",
      " [0.48412044]]\n"
     ]
    }
   ],
   "source": [
    "b0 = (1/9)*np.ones((9,1))\n",
    "print('b0 = ', b0)\n",
    "print(' ')\n",
    "\n",
    "bhub1 = Ahub @ b0\n",
    "print('bhub1 = ', bhub1)\n",
    "print(' ')\n",
    "\n",
    "bhub = b0.copy()\n",
    "for k in range(1000):\n",
    "    bhub = Ahub @ bhub\n",
    "    \n",
    "print('1000 iterations')\n",
    "print('bhub = ', bhub)\n",
    "print(' ')\n",
    "\n",
    "bhubr = b0.copy()\n",
    "for k in range(100):\n",
    "    bhubr = Ahub @ bhubr\n",
    "    \n",
    "print('100 iterations')\n",
    "print('bhubr = ',bhubr)\n",
    "print(' ')\n",
    "\n",
    "bhubr = b0.copy()\n",
    "for k in range(90):\n",
    "    bhubr = Ahub @ bhubr\n",
    "    \n",
    "print('90 iterations')\n",
    "print('bhubr = ',bhubr)"
   ]
  },
  {
   "cell_type": "markdown",
   "metadata": {},
   "source": [
    "#### 4e) Are any nodes more important than other nodes? Explain.\n",
    "\n",
    "Yes, the 9th node is more important than other nodes, because it gets higher probability."
   ]
  },
  {
   "cell_type": "markdown",
   "metadata": {},
   "source": [
    "#### f) Experiment with the number of iterations of the power method that are needed to find an answer that is correct to three decimal places.\n",
    "\n",
    "After 100 iterations, we can find the answer, because we can compared it with 1000 iteration, and then the vector does not change much (similarly)."
   ]
  }
 ],
 "metadata": {
  "kernelspec": {
   "display_name": "Python 3 (ipykernel)",
   "language": "python",
   "name": "python3"
  },
  "language_info": {
   "codemirror_mode": {
    "name": "ipython",
    "version": 3
   },
   "file_extension": ".py",
   "mimetype": "text/x-python",
   "name": "python",
   "nbconvert_exporter": "python",
   "pygments_lexer": "ipython3",
   "version": "3.10.13"
  }
 },
 "nbformat": 4,
 "nbformat_minor": 4
}
