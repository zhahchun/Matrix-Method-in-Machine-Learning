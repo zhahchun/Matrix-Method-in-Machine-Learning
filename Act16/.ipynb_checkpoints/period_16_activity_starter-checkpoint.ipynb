{
 "cells": [
  {
   "cell_type": "code",
   "execution_count": null,
   "metadata": {},
   "outputs": [],
   "source": [
    "import numpy as np\n",
    "import matplotlib.pyplot as plt"
   ]
  },
  {
   "cell_type": "code",
   "execution_count": null,
   "metadata": {},
   "outputs": [],
   "source": [
    "## DO NOT Change\n",
    "def graddescent(X,y,tau,w_init,it):\n",
    "    \"\"\"\n",
    "    compute 10 iterations of gradient descent starting at w1\n",
    "    w_{k+1}= w_k - tau*X'*(X*w_k - y)\n",
    "    \"\"\"\n",
    "    W = np.zeros((w_init.shape[0],it))\n",
    "    W[:,[0]] = w_init\n",
    "    for k in range(it-1):\n",
    "        W[:,[k+1]] = W[:,[k]] - tau * X.T @ (X @ W[:,[k]] - y)\n",
    "    return W "
   ]
  },
  {
   "cell_type": "markdown",
   "metadata": {},
   "source": [
    "# Question 1b)"
   ]
  },
  {
   "cell_type": "code",
   "execution_count": null,
   "metadata": {},
   "outputs": [],
   "source": [
    "U = np.array([[1, 0], [0, 1], [0, 0], [0, 0]])\n",
    "S = np.array([[1, 0], [0, 0.5]])\n",
    "Sinv = np.linalg.inv(S)\n",
    "V = np.eye(2)\n",
    "X = U @ S @ V.T\n",
    "y = np.array([[1], [0.5], [1], [0]])\n",
    "\n",
    "### Find Least Squares Solution\n",
    "w_ls = V @ Sinv @ U.T @ y\n",
    "c = y.T @ y - y.T @ X @ w_ls\n",
    "\n",
    "### Find values of f(w), the contour plot surface for \n",
    "w1 = np.arange(-1,3,.1)\n",
    "w2 = np.arange(-1,3,.1)\n",
    "fw = np.zeros((len(w1), len(w2)))\n",
    "for i in range(len(w2)):\n",
    "    for j in range(len(w1)):\n",
    "        w = np.array([ [w1[j]], [w2[i]] ])\n",
    "        fw[i,j] = (w-w_ls).T @ X.T @ X @ (w-w_ls) + c\n",
    "\n",
    "### Plot the countours\n",
    "plt.figure(num=None, figsize=(4, 4), dpi=120)      \n",
    "plt.contour(w1,w2,fw,20)\n",
    "plt.xlim([-1,3])\n",
    "plt.ylim([-1,3])\n",
    "plt.xlabel('$w_1$')\n",
    "plt.ylabel('$w_2$')\n",
    "plt.axis('square');\n"
   ]
  },
  {
   "cell_type": "markdown",
   "metadata": {},
   "source": [
    "# Question 1c)"
   ]
  },
  {
   "cell_type": "code",
   "execution_count": null,
   "metadata": {},
   "outputs": [],
   "source": [
    "## Copy and paste code from 1b"
   ]
  },
  {
   "cell_type": "markdown",
   "metadata": {},
   "source": [
    "# Question 1d)"
   ]
  },
  {
   "cell_type": "code",
   "execution_count": null,
   "metadata": {},
   "outputs": [],
   "source": [
    "## Copy and paste code from 1b"
   ]
  },
  {
   "cell_type": "markdown",
   "metadata": {},
   "source": [
    "# Question 2b)"
   ]
  },
  {
   "cell_type": "code",
   "execution_count": null,
   "metadata": {
    "scrolled": true
   },
   "outputs": [],
   "source": [
    "U = np.array([[1, 0], [0, 1], [0, 0], [0, 0]])\n",
    "S = np.array([[1, 0], [0, 0.5]])\n",
    "Sinv = np.linalg.inv(S)\n",
    "V = 1/np.sqrt(2)*np.array([[1, 1], [1, -1]])\n",
    "X = U @ S @ V.T\n",
    "y = np.array([[np.sqrt(2)], [0], [1], [0]])\n",
    "\n",
    "### Find Least Squares Solution\n",
    "w_ls = V @ Sinv @ U.T @ y\n",
    "c = y.T @ y - y.T @ X @ w_ls\n",
    "\n",
    "### Find values of f(w), the contour plot surface for \n",
    "w1 = np.arange(-1,3,.1)\n",
    "w2 = np.arange(-1,3,.1)\n",
    "fw = np.zeros((len(w1), len(w2)))\n",
    "for i in range(len(w1)):\n",
    "    for j in range(len(w2)):\n",
    "        w = np.array([ [w1[i]], [w2[j]] ])\n",
    "        fw[i,j] = (w-w_ls).T @ X.T @ X @ (w-w_ls) + c"
   ]
  },
  {
   "cell_type": "code",
   "execution_count": null,
   "metadata": {
    "scrolled": false
   },
   "outputs": [],
   "source": [
    "w_init = ???  # complete this line with a 2x1 numpy array for the values specified in the activity\n",
    "it = 20\n",
    "tau = .5\n",
    "W = graddescent(X,y,tau,w_init,it);\n",
    "\n",
    "\n",
    "### Create plot\n",
    "plt.figure(num=None, figsize=(4, 4), dpi=120) \n",
    "plt.contour(w1,w2,fw,20)\n",
    "plt.plot(w_ls[0],w_ls[1],\"s\", label=\"LS Solution\")\n",
    "plt.plot(W[0,:],W[1,:],'o-',linewidth=2, label=\"Gradient Descent\")\n",
    "plt.legend()\n",
    "plt.xlim([-1,3])\n",
    "plt.xlabel('$w_1$')\n",
    "plt.ylim([-1,3])\n",
    "plt.ylabel('$w_2$')\n",
    "plt.title(r'$\\tau = .5$');\n",
    "plt.axis('square');"
   ]
  },
  {
   "cell_type": "markdown",
   "metadata": {},
   "source": [
    "# Question 2c)"
   ]
  },
  {
   "cell_type": "code",
   "execution_count": null,
   "metadata": {},
   "outputs": [],
   "source": [
    "# copy and paste code from above"
   ]
  },
  {
   "cell_type": "markdown",
   "metadata": {},
   "source": [
    "# Question 2d)"
   ]
  },
  {
   "cell_type": "code",
   "execution_count": null,
   "metadata": {},
   "outputs": [],
   "source": [
    "## Copy and paste code from above"
   ]
  }
 ],
 "metadata": {
  "kernelspec": {
   "display_name": "Python 3",
   "language": "python",
   "name": "python3"
  },
  "language_info": {
   "codemirror_mode": {
    "name": "ipython",
    "version": 3
   },
   "file_extension": ".py",
   "mimetype": "text/x-python",
   "name": "python",
   "nbconvert_exporter": "python",
   "pygments_lexer": "ipython3",
   "version": "3.7.4"
  }
 },
 "nbformat": 4,
 "nbformat_minor": 2
}
